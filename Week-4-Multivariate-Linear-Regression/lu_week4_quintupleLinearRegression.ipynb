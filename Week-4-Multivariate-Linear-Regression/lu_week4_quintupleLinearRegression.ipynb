{
 "cells": [
  {
   "cell_type": "code",
   "execution_count": 1,
   "metadata": {},
   "outputs": [],
   "source": [
    "import numpy as np\n",
    "import pandas as pd\n",
    "import statsmodels.api as sm\n",
    "import seaborn as sns\n",
    "\n",
    "from sklearn.model_selection import train_test_split\n",
    "from sklearn.metrics import r2_score,mean_squared_error"
   ]
  },
  {
   "cell_type": "code",
   "execution_count": 2,
   "metadata": {},
   "outputs": [],
   "source": [
    "data = pd.read_csv(\"../cleaned_dataset.csv\")"
   ]
  },
  {
   "cell_type": "code",
   "execution_count": 3,
   "metadata": {},
   "outputs": [
    {
     "data": {
      "text/plain": [
       "(894, 14)"
      ]
     },
     "execution_count": 3,
     "metadata": {},
     "output_type": "execute_result"
    }
   ],
   "source": [
    "data.shape"
   ]
  },
  {
   "cell_type": "code",
   "execution_count": 4,
   "metadata": {
    "scrolled": true
   },
   "outputs": [
    {
     "data": {
      "text/html": [
       "<div>\n",
       "<style scoped>\n",
       "    .dataframe tbody tr th:only-of-type {\n",
       "        vertical-align: middle;\n",
       "    }\n",
       "\n",
       "    .dataframe tbody tr th {\n",
       "        vertical-align: top;\n",
       "    }\n",
       "\n",
       "    .dataframe thead th {\n",
       "        text-align: right;\n",
       "    }\n",
       "</style>\n",
       "<table border=\"1\" class=\"dataframe\">\n",
       "  <thead>\n",
       "    <tr style=\"text-align: right;\">\n",
       "      <th></th>\n",
       "      <th>Id</th>\n",
       "      <th>ActivityDate</th>\n",
       "      <th>TotalSteps</th>\n",
       "      <th>TotalDistance</th>\n",
       "      <th>LoggedActivitiesDistance</th>\n",
       "      <th>VeryActiveDistance</th>\n",
       "      <th>ModeratelyActiveDistance</th>\n",
       "      <th>LightActiveDistance</th>\n",
       "      <th>SedentaryActiveDistance</th>\n",
       "      <th>VeryActiveMinutes</th>\n",
       "      <th>FairlyActiveMinutes</th>\n",
       "      <th>LightlyActiveMinutes</th>\n",
       "      <th>SedentaryMinutes</th>\n",
       "      <th>Calories</th>\n",
       "    </tr>\n",
       "  </thead>\n",
       "  <tbody>\n",
       "    <tr>\n",
       "      <th>0</th>\n",
       "      <td>1503960366</td>\n",
       "      <td>4/12/2016</td>\n",
       "      <td>13162</td>\n",
       "      <td>8.50</td>\n",
       "      <td>0.0</td>\n",
       "      <td>1.88</td>\n",
       "      <td>0.55</td>\n",
       "      <td>6.06</td>\n",
       "      <td>0.0</td>\n",
       "      <td>25</td>\n",
       "      <td>13</td>\n",
       "      <td>328</td>\n",
       "      <td>728</td>\n",
       "      <td>1985</td>\n",
       "    </tr>\n",
       "    <tr>\n",
       "      <th>1</th>\n",
       "      <td>1503960366</td>\n",
       "      <td>4/13/2016</td>\n",
       "      <td>10735</td>\n",
       "      <td>6.97</td>\n",
       "      <td>0.0</td>\n",
       "      <td>1.57</td>\n",
       "      <td>0.69</td>\n",
       "      <td>4.71</td>\n",
       "      <td>0.0</td>\n",
       "      <td>21</td>\n",
       "      <td>19</td>\n",
       "      <td>217</td>\n",
       "      <td>776</td>\n",
       "      <td>1797</td>\n",
       "    </tr>\n",
       "    <tr>\n",
       "      <th>2</th>\n",
       "      <td>1503960366</td>\n",
       "      <td>4/14/2016</td>\n",
       "      <td>10460</td>\n",
       "      <td>6.74</td>\n",
       "      <td>0.0</td>\n",
       "      <td>2.44</td>\n",
       "      <td>0.40</td>\n",
       "      <td>3.91</td>\n",
       "      <td>0.0</td>\n",
       "      <td>30</td>\n",
       "      <td>11</td>\n",
       "      <td>181</td>\n",
       "      <td>1218</td>\n",
       "      <td>1776</td>\n",
       "    </tr>\n",
       "    <tr>\n",
       "      <th>3</th>\n",
       "      <td>1503960366</td>\n",
       "      <td>4/15/2016</td>\n",
       "      <td>9762</td>\n",
       "      <td>6.28</td>\n",
       "      <td>0.0</td>\n",
       "      <td>2.14</td>\n",
       "      <td>1.26</td>\n",
       "      <td>2.83</td>\n",
       "      <td>0.0</td>\n",
       "      <td>29</td>\n",
       "      <td>34</td>\n",
       "      <td>209</td>\n",
       "      <td>726</td>\n",
       "      <td>1745</td>\n",
       "    </tr>\n",
       "    <tr>\n",
       "      <th>4</th>\n",
       "      <td>1503960366</td>\n",
       "      <td>4/16/2016</td>\n",
       "      <td>12669</td>\n",
       "      <td>8.16</td>\n",
       "      <td>0.0</td>\n",
       "      <td>2.71</td>\n",
       "      <td>0.41</td>\n",
       "      <td>5.04</td>\n",
       "      <td>0.0</td>\n",
       "      <td>36</td>\n",
       "      <td>10</td>\n",
       "      <td>221</td>\n",
       "      <td>773</td>\n",
       "      <td>1863</td>\n",
       "    </tr>\n",
       "  </tbody>\n",
       "</table>\n",
       "</div>"
      ],
      "text/plain": [
       "           Id ActivityDate  TotalSteps  TotalDistance  \\\n",
       "0  1503960366    4/12/2016       13162           8.50   \n",
       "1  1503960366    4/13/2016       10735           6.97   \n",
       "2  1503960366    4/14/2016       10460           6.74   \n",
       "3  1503960366    4/15/2016        9762           6.28   \n",
       "4  1503960366    4/16/2016       12669           8.16   \n",
       "\n",
       "   LoggedActivitiesDistance  VeryActiveDistance  ModeratelyActiveDistance  \\\n",
       "0                       0.0                1.88                      0.55   \n",
       "1                       0.0                1.57                      0.69   \n",
       "2                       0.0                2.44                      0.40   \n",
       "3                       0.0                2.14                      1.26   \n",
       "4                       0.0                2.71                      0.41   \n",
       "\n",
       "   LightActiveDistance  SedentaryActiveDistance  VeryActiveMinutes  \\\n",
       "0                 6.06                      0.0                 25   \n",
       "1                 4.71                      0.0                 21   \n",
       "2                 3.91                      0.0                 30   \n",
       "3                 2.83                      0.0                 29   \n",
       "4                 5.04                      0.0                 36   \n",
       "\n",
       "   FairlyActiveMinutes  LightlyActiveMinutes  SedentaryMinutes  Calories  \n",
       "0                   13                   328               728      1985  \n",
       "1                   19                   217               776      1797  \n",
       "2                   11                   181              1218      1776  \n",
       "3                   34                   209               726      1745  \n",
       "4                   10                   221               773      1863  "
      ]
     },
     "execution_count": 4,
     "metadata": {},
     "output_type": "execute_result"
    }
   ],
   "source": [
    "data.head()"
   ]
  },
  {
   "cell_type": "code",
   "execution_count": 5,
   "metadata": {
    "scrolled": true
   },
   "outputs": [
    {
     "data": {
      "text/html": [
       "<div>\n",
       "<style scoped>\n",
       "    .dataframe tbody tr th:only-of-type {\n",
       "        vertical-align: middle;\n",
       "    }\n",
       "\n",
       "    .dataframe tbody tr th {\n",
       "        vertical-align: top;\n",
       "    }\n",
       "\n",
       "    .dataframe thead th {\n",
       "        text-align: right;\n",
       "    }\n",
       "</style>\n",
       "<table border=\"1\" class=\"dataframe\">\n",
       "  <thead>\n",
       "    <tr style=\"text-align: right;\">\n",
       "      <th></th>\n",
       "      <th>Calories</th>\n",
       "      <th>TotalDistance</th>\n",
       "      <th>VeryActiveMinutes</th>\n",
       "      <th>TotalSteps</th>\n",
       "      <th>VeryActiveDistance</th>\n",
       "      <th>Id</th>\n",
       "      <th>LightActiveDistance</th>\n",
       "      <th>FairlyActiveMinutes</th>\n",
       "      <th>LightlyActiveMinutes</th>\n",
       "      <th>LoggedActivitiesDistance</th>\n",
       "      <th>ModeratelyActiveDistance</th>\n",
       "      <th>SedentaryMinutes</th>\n",
       "      <th>SedentaryActiveDistance</th>\n",
       "    </tr>\n",
       "  </thead>\n",
       "  <tbody>\n",
       "    <tr>\n",
       "      <th>Calories</th>\n",
       "      <td>1.000000</td>\n",
       "      <td>0.634597</td>\n",
       "      <td>0.612108</td>\n",
       "      <td>0.576692</td>\n",
       "      <td>0.485477</td>\n",
       "      <td>0.452192</td>\n",
       "      <td>0.439143</td>\n",
       "      <td>0.279543</td>\n",
       "      <td>0.236113</td>\n",
       "      <td>0.206192</td>\n",
       "      <td>0.196670</td>\n",
       "      <td>0.062328</td>\n",
       "      <td>0.035224</td>\n",
       "    </tr>\n",
       "    <tr>\n",
       "      <th>TotalDistance</th>\n",
       "      <td>0.634597</td>\n",
       "      <td>1.000000</td>\n",
       "      <td>0.676779</td>\n",
       "      <td>0.983930</td>\n",
       "      <td>0.801608</td>\n",
       "      <td>0.305029</td>\n",
       "      <td>0.617964</td>\n",
       "      <td>0.441858</td>\n",
       "      <td>0.447825</td>\n",
       "      <td>0.185493</td>\n",
       "      <td>0.452468</td>\n",
       "      <td>0.211014</td>\n",
       "      <td>0.070356</td>\n",
       "    </tr>\n",
       "    <tr>\n",
       "      <th>VeryActiveMinutes</th>\n",
       "      <td>0.612108</td>\n",
       "      <td>0.676779</td>\n",
       "      <td>1.000000</td>\n",
       "      <td>0.663672</td>\n",
       "      <td>0.823507</td>\n",
       "      <td>0.333554</td>\n",
       "      <td>0.109564</td>\n",
       "      <td>0.296584</td>\n",
       "      <td>0.007386</td>\n",
       "      <td>0.231318</td>\n",
       "      <td>0.208591</td>\n",
       "      <td>0.127621</td>\n",
       "      <td>0.001012</td>\n",
       "    </tr>\n",
       "    <tr>\n",
       "      <th>TotalSteps</th>\n",
       "      <td>0.576692</td>\n",
       "      <td>0.983930</td>\n",
       "      <td>0.663672</td>\n",
       "      <td>1.000000</td>\n",
       "      <td>0.746909</td>\n",
       "      <td>0.250964</td>\n",
       "      <td>0.647993</td>\n",
       "      <td>0.480344</td>\n",
       "      <td>0.502734</td>\n",
       "      <td>0.179211</td>\n",
       "      <td>0.491803</td>\n",
       "      <td>0.249151</td>\n",
       "      <td>0.057076</td>\n",
       "    </tr>\n",
       "    <tr>\n",
       "      <th>VeryActiveDistance</th>\n",
       "      <td>0.485477</td>\n",
       "      <td>0.801608</td>\n",
       "      <td>0.823507</td>\n",
       "      <td>0.746909</td>\n",
       "      <td>1.000000</td>\n",
       "      <td>0.335490</td>\n",
       "      <td>0.119483</td>\n",
       "      <td>0.195911</td>\n",
       "      <td>0.009283</td>\n",
       "      <td>0.147102</td>\n",
       "      <td>0.177637</td>\n",
       "      <td>0.022772</td>\n",
       "      <td>0.040132</td>\n",
       "    </tr>\n",
       "    <tr>\n",
       "      <th>Id</th>\n",
       "      <td>0.452192</td>\n",
       "      <td>0.305029</td>\n",
       "      <td>0.333554</td>\n",
       "      <td>0.250964</td>\n",
       "      <td>0.335490</td>\n",
       "      <td>1.000000</td>\n",
       "      <td>0.075902</td>\n",
       "      <td>0.074040</td>\n",
       "      <td>0.050738</td>\n",
       "      <td>0.197578</td>\n",
       "      <td>0.047526</td>\n",
       "      <td>0.091396</td>\n",
       "      <td>0.009312</td>\n",
       "    </tr>\n",
       "    <tr>\n",
       "      <th>LightActiveDistance</th>\n",
       "      <td>0.439143</td>\n",
       "      <td>0.617964</td>\n",
       "      <td>0.109564</td>\n",
       "      <td>0.647993</td>\n",
       "      <td>0.119483</td>\n",
       "      <td>0.075902</td>\n",
       "      <td>1.000000</td>\n",
       "      <td>0.177579</td>\n",
       "      <td>0.866208</td>\n",
       "      <td>0.133221</td>\n",
       "      <td>0.199983</td>\n",
       "      <td>0.339955</td>\n",
       "      <td>0.087422</td>\n",
       "    </tr>\n",
       "    <tr>\n",
       "      <th>FairlyActiveMinutes</th>\n",
       "      <td>0.279543</td>\n",
       "      <td>0.441858</td>\n",
       "      <td>0.296584</td>\n",
       "      <td>0.480344</td>\n",
       "      <td>0.195911</td>\n",
       "      <td>0.074040</td>\n",
       "      <td>0.177579</td>\n",
       "      <td>1.000000</td>\n",
       "      <td>0.096199</td>\n",
       "      <td>0.048375</td>\n",
       "      <td>0.945749</td>\n",
       "      <td>0.203648</td>\n",
       "      <td>0.030405</td>\n",
       "    </tr>\n",
       "    <tr>\n",
       "      <th>LightlyActiveMinutes</th>\n",
       "      <td>0.236113</td>\n",
       "      <td>0.447825</td>\n",
       "      <td>0.007386</td>\n",
       "      <td>0.502734</td>\n",
       "      <td>0.009283</td>\n",
       "      <td>0.050738</td>\n",
       "      <td>0.866208</td>\n",
       "      <td>0.096199</td>\n",
       "      <td>1.000000</td>\n",
       "      <td>0.094229</td>\n",
       "      <td>0.114369</td>\n",
       "      <td>0.361138</td>\n",
       "      <td>0.113978</td>\n",
       "    </tr>\n",
       "    <tr>\n",
       "      <th>LoggedActivitiesDistance</th>\n",
       "      <td>0.206192</td>\n",
       "      <td>0.185493</td>\n",
       "      <td>0.231318</td>\n",
       "      <td>0.179211</td>\n",
       "      <td>0.147102</td>\n",
       "      <td>0.197578</td>\n",
       "      <td>0.133221</td>\n",
       "      <td>0.048375</td>\n",
       "      <td>0.094229</td>\n",
       "      <td>1.000000</td>\n",
       "      <td>0.071574</td>\n",
       "      <td>0.036783</td>\n",
       "      <td>0.153340</td>\n",
       "    </tr>\n",
       "    <tr>\n",
       "      <th>ModeratelyActiveDistance</th>\n",
       "      <td>0.196670</td>\n",
       "      <td>0.452468</td>\n",
       "      <td>0.208591</td>\n",
       "      <td>0.491803</td>\n",
       "      <td>0.177637</td>\n",
       "      <td>0.047526</td>\n",
       "      <td>0.199983</td>\n",
       "      <td>0.945749</td>\n",
       "      <td>0.114369</td>\n",
       "      <td>0.071574</td>\n",
       "      <td>1.000000</td>\n",
       "      <td>0.188949</td>\n",
       "      <td>0.001459</td>\n",
       "    </tr>\n",
       "    <tr>\n",
       "      <th>SedentaryMinutes</th>\n",
       "      <td>0.062328</td>\n",
       "      <td>0.211014</td>\n",
       "      <td>0.127621</td>\n",
       "      <td>0.249151</td>\n",
       "      <td>0.022772</td>\n",
       "      <td>0.091396</td>\n",
       "      <td>0.339955</td>\n",
       "      <td>0.203648</td>\n",
       "      <td>0.361138</td>\n",
       "      <td>0.036783</td>\n",
       "      <td>0.188949</td>\n",
       "      <td>1.000000</td>\n",
       "      <td>0.054629</td>\n",
       "    </tr>\n",
       "    <tr>\n",
       "      <th>SedentaryActiveDistance</th>\n",
       "      <td>0.035224</td>\n",
       "      <td>0.070356</td>\n",
       "      <td>0.001012</td>\n",
       "      <td>0.057076</td>\n",
       "      <td>0.040132</td>\n",
       "      <td>0.009312</td>\n",
       "      <td>0.087422</td>\n",
       "      <td>0.030405</td>\n",
       "      <td>0.113978</td>\n",
       "      <td>0.153340</td>\n",
       "      <td>0.001459</td>\n",
       "      <td>0.054629</td>\n",
       "      <td>1.000000</td>\n",
       "    </tr>\n",
       "  </tbody>\n",
       "</table>\n",
       "</div>"
      ],
      "text/plain": [
       "                          Calories  TotalDistance  VeryActiveMinutes  \\\n",
       "Calories                  1.000000       0.634597           0.612108   \n",
       "TotalDistance             0.634597       1.000000           0.676779   \n",
       "VeryActiveMinutes         0.612108       0.676779           1.000000   \n",
       "TotalSteps                0.576692       0.983930           0.663672   \n",
       "VeryActiveDistance        0.485477       0.801608           0.823507   \n",
       "Id                        0.452192       0.305029           0.333554   \n",
       "LightActiveDistance       0.439143       0.617964           0.109564   \n",
       "FairlyActiveMinutes       0.279543       0.441858           0.296584   \n",
       "LightlyActiveMinutes      0.236113       0.447825           0.007386   \n",
       "LoggedActivitiesDistance  0.206192       0.185493           0.231318   \n",
       "ModeratelyActiveDistance  0.196670       0.452468           0.208591   \n",
       "SedentaryMinutes          0.062328       0.211014           0.127621   \n",
       "SedentaryActiveDistance   0.035224       0.070356           0.001012   \n",
       "\n",
       "                          TotalSteps  VeryActiveDistance        Id  \\\n",
       "Calories                    0.576692            0.485477  0.452192   \n",
       "TotalDistance               0.983930            0.801608  0.305029   \n",
       "VeryActiveMinutes           0.663672            0.823507  0.333554   \n",
       "TotalSteps                  1.000000            0.746909  0.250964   \n",
       "VeryActiveDistance          0.746909            1.000000  0.335490   \n",
       "Id                          0.250964            0.335490  1.000000   \n",
       "LightActiveDistance         0.647993            0.119483  0.075902   \n",
       "FairlyActiveMinutes         0.480344            0.195911  0.074040   \n",
       "LightlyActiveMinutes        0.502734            0.009283  0.050738   \n",
       "LoggedActivitiesDistance    0.179211            0.147102  0.197578   \n",
       "ModeratelyActiveDistance    0.491803            0.177637  0.047526   \n",
       "SedentaryMinutes            0.249151            0.022772  0.091396   \n",
       "SedentaryActiveDistance     0.057076            0.040132  0.009312   \n",
       "\n",
       "                          LightActiveDistance  FairlyActiveMinutes  \\\n",
       "Calories                             0.439143             0.279543   \n",
       "TotalDistance                        0.617964             0.441858   \n",
       "VeryActiveMinutes                    0.109564             0.296584   \n",
       "TotalSteps                           0.647993             0.480344   \n",
       "VeryActiveDistance                   0.119483             0.195911   \n",
       "Id                                   0.075902             0.074040   \n",
       "LightActiveDistance                  1.000000             0.177579   \n",
       "FairlyActiveMinutes                  0.177579             1.000000   \n",
       "LightlyActiveMinutes                 0.866208             0.096199   \n",
       "LoggedActivitiesDistance             0.133221             0.048375   \n",
       "ModeratelyActiveDistance             0.199983             0.945749   \n",
       "SedentaryMinutes                     0.339955             0.203648   \n",
       "SedentaryActiveDistance              0.087422             0.030405   \n",
       "\n",
       "                          LightlyActiveMinutes  LoggedActivitiesDistance  \\\n",
       "Calories                              0.236113                  0.206192   \n",
       "TotalDistance                         0.447825                  0.185493   \n",
       "VeryActiveMinutes                     0.007386                  0.231318   \n",
       "TotalSteps                            0.502734                  0.179211   \n",
       "VeryActiveDistance                    0.009283                  0.147102   \n",
       "Id                                    0.050738                  0.197578   \n",
       "LightActiveDistance                   0.866208                  0.133221   \n",
       "FairlyActiveMinutes                   0.096199                  0.048375   \n",
       "LightlyActiveMinutes                  1.000000                  0.094229   \n",
       "LoggedActivitiesDistance              0.094229                  1.000000   \n",
       "ModeratelyActiveDistance              0.114369                  0.071574   \n",
       "SedentaryMinutes                      0.361138                  0.036783   \n",
       "SedentaryActiveDistance               0.113978                  0.153340   \n",
       "\n",
       "                          ModeratelyActiveDistance  SedentaryMinutes  \\\n",
       "Calories                                  0.196670          0.062328   \n",
       "TotalDistance                             0.452468          0.211014   \n",
       "VeryActiveMinutes                         0.208591          0.127621   \n",
       "TotalSteps                                0.491803          0.249151   \n",
       "VeryActiveDistance                        0.177637          0.022772   \n",
       "Id                                        0.047526          0.091396   \n",
       "LightActiveDistance                       0.199983          0.339955   \n",
       "FairlyActiveMinutes                       0.945749          0.203648   \n",
       "LightlyActiveMinutes                      0.114369          0.361138   \n",
       "LoggedActivitiesDistance                  0.071574          0.036783   \n",
       "ModeratelyActiveDistance                  1.000000          0.188949   \n",
       "SedentaryMinutes                          0.188949          1.000000   \n",
       "SedentaryActiveDistance                   0.001459          0.054629   \n",
       "\n",
       "                          SedentaryActiveDistance  \n",
       "Calories                                 0.035224  \n",
       "TotalDistance                            0.070356  \n",
       "VeryActiveMinutes                        0.001012  \n",
       "TotalSteps                               0.057076  \n",
       "VeryActiveDistance                       0.040132  \n",
       "Id                                       0.009312  \n",
       "LightActiveDistance                      0.087422  \n",
       "FairlyActiveMinutes                      0.030405  \n",
       "LightlyActiveMinutes                     0.113978  \n",
       "LoggedActivitiesDistance                 0.153340  \n",
       "ModeratelyActiveDistance                 0.001459  \n",
       "SedentaryMinutes                         0.054629  \n",
       "SedentaryActiveDistance                  1.000000  "
      ]
     },
     "execution_count": 5,
     "metadata": {},
     "output_type": "execute_result"
    }
   ],
   "source": [
    "cor_matrix = data.corr().abs().sort_values(\"Calories\", ascending = False).sort_values(\"Calories\", axis = 1, ascending = False)\n",
    "cor_matrix"
   ]
  },
  {
   "cell_type": "code",
   "execution_count": 6,
   "metadata": {
    "scrolled": true
   },
   "outputs": [
    {
     "data": {
      "text/plain": [
       "TotalDistance               0.634597\n",
       "VeryActiveMinutes           0.612108\n",
       "TotalSteps                  0.576692\n",
       "VeryActiveDistance          0.485477\n",
       "Id                          0.452192\n",
       "LightActiveDistance         0.439143\n",
       "FairlyActiveMinutes         0.279543\n",
       "LightlyActiveMinutes        0.236113\n",
       "LoggedActivitiesDistance    0.206192\n",
       "ModeratelyActiveDistance    0.196670\n",
       "SedentaryMinutes            0.062328\n",
       "SedentaryActiveDistance     0.035224\n",
       "Name: Calories, dtype: float64"
      ]
     },
     "execution_count": 6,
     "metadata": {},
     "output_type": "execute_result"
    }
   ],
   "source": [
    "max_corr = cor_matrix.Calories[1:].sort_values(ascending = False)\n",
    "max_corr"
   ]
  },
  {
   "cell_type": "markdown",
   "metadata": {},
   "source": [
    "'TotalDistance', 'VeryActiveMinutes', 'TotalSteps', 'VeryActiveDistance' and 'LightActiveDistance' are the five most correlated predictors with 'Calories';"
   ]
  },
  {
   "cell_type": "code",
   "execution_count": 7,
   "metadata": {},
   "outputs": [
    {
     "data": {
      "text/plain": [
       "Index(['VeryActiveMinutes', 'TotalSteps', 'VeryActiveDistance', 'Id',\n",
       "       'LightActiveDistance'],\n",
       "      dtype='object')"
      ]
     },
     "execution_count": 7,
     "metadata": {},
     "output_type": "execute_result"
    }
   ],
   "source": [
    "max_corr.index[1:6]"
   ]
  },
  {
   "cell_type": "code",
   "execution_count": 8,
   "metadata": {},
   "outputs": [],
   "source": [
    "X = data.iloc[:,1:-1]\n",
    "y = data.iloc[:,-1]"
   ]
  },
  {
   "cell_type": "code",
   "execution_count": 9,
   "metadata": {},
   "outputs": [],
   "source": [
    "X_train, X_test, y_train, y_test = train_test_split(X, y, test_size=0.2, random_state=42)"
   ]
  },
  {
   "cell_type": "markdown",
   "metadata": {},
   "source": [
    "## Using highest 5 correlated"
   ]
  },
  {
   "cell_type": "code",
   "execution_count": 10,
   "metadata": {},
   "outputs": [],
   "source": [
    "x1_train = X_train[['TotalDistance', 'VeryActiveMinutes', 'TotalSteps',\n",
    "       'VeryActiveDistance', 'LightActiveDistance']]\n",
    "x1_train = sm.add_constant(x1_train)\n",
    "x1_test = X_test[['TotalDistance', 'VeryActiveMinutes', 'TotalSteps',\n",
    "       'VeryActiveDistance', 'LightActiveDistance']]\n",
    "x1_test = sm.add_constant(x1_test)"
   ]
  },
  {
   "cell_type": "code",
   "execution_count": 11,
   "metadata": {
    "scrolled": true
   },
   "outputs": [
    {
     "name": "stdout",
     "output_type": "stream",
     "text": [
      "                            OLS Regression Results                            \n",
      "==============================================================================\n",
      "Dep. Variable:               Calories   R-squared:                       0.750\n",
      "Model:                            OLS   Adj. R-squared:                  0.748\n",
      "Method:                 Least Squares   F-statistic:                     424.5\n",
      "Date:                Thu, 04 Feb 2021   Prob (F-statistic):          2.11e-210\n",
      "Time:                        14:42:14   Log-Likelihood:                -5221.9\n",
      "No. Observations:                 715   AIC:                         1.046e+04\n",
      "Df Residuals:                     709   BIC:                         1.048e+04\n",
      "Df Model:                           5                                         \n",
      "Covariance Type:            nonrobust                                         \n",
      "=======================================================================================\n",
      "                          coef    std err          t      P>|t|      [0.025      0.975]\n",
      "---------------------------------------------------------------------------------------\n",
      "const                1671.5228     29.233     57.180      0.000    1614.129    1728.916\n",
      "TotalDistance         656.8024     28.376     23.146      0.000     601.092     712.513\n",
      "VeryActiveMinutes      19.9942      0.773     25.860      0.000      18.476      21.512\n",
      "TotalSteps             -0.4092      0.017    -23.400      0.000      -0.443      -0.375\n",
      "VeryActiveDistance   -268.7668     17.654    -15.224      0.000    -303.428    -234.106\n",
      "LightActiveDistance    39.6910     16.271      2.439      0.015       7.747      71.635\n",
      "==============================================================================\n",
      "Omnibus:                       47.928   Durbin-Watson:                   1.875\n",
      "Prob(Omnibus):                  0.000   Jarque-Bera (JB):              119.233\n",
      "Skew:                          -0.348   Prob(JB):                     1.29e-26\n",
      "Kurtosis:                       4.876   Cond. No.                     2.39e+04\n",
      "==============================================================================\n",
      "\n",
      "Notes:\n",
      "[1] Standard Errors assume that the covariance matrix of the errors is correctly specified.\n",
      "[2] The condition number is large, 2.39e+04. This might indicate that there are\n",
      "strong multicollinearity or other numerical problems.\n"
     ]
    }
   ],
   "source": [
    "# Fit and summarize OLS model\n",
    "mod = sm.OLS(endog = y_train, exog = x1_train)\n",
    "res = mod.fit()\n",
    "\n",
    "y_pred = res.predict(x1_test)\n",
    "print(res.summary())"
   ]
  },
  {
   "cell_type": "code",
   "execution_count": 12,
   "metadata": {
    "scrolled": true
   },
   "outputs": [
    {
     "data": {
      "text/plain": [
       "[(0.0, 4500.0), (0.0, 4500.0)]"
      ]
     },
     "execution_count": 12,
     "metadata": {},
     "output_type": "execute_result"
    },
    {
     "data": {
      "image/png": "[encoded data removed]",
      "text/plain": [
       "<Figure size 432x288 with 1 Axes>"
      ]
     },
     "metadata": {
      "needs_background": "light"
     },
     "output_type": "display_data"
    }
   ],
   "source": [
    "ax = sns.scatterplot(x=y_test, y=y_pred)\n",
    "ax.set(ylim =[0,4500],xlim =[0,4500])"
   ]
  },
  {
   "cell_type": "code",
   "execution_count": 13,
   "metadata": {},
   "outputs": [
    {
     "name": "stdout",
     "output_type": "stream",
     "text": [
      "Train MSE: 129171.75736373846\n",
      "Train R^2: 0.7496115110664563\n",
      "Test MSE: 164967.54011003446\n",
      "Test R^2: 0.6624702349816908\n"
     ]
    }
   ],
   "source": [
    "print(\"Train MSE:\", mean_squared_error(y_train,res.fittedvalues)) \n",
    "print(\"Train R^2:\", res.rsquared)\n",
    "print(\"Test MSE:\", mean_squared_error(y_test,y_pred)) \n",
    "print(\"Test R^2:\", r2_score(y_test,y_pred))"
   ]
  },
  {
   "cell_type": "markdown",
   "metadata": {},
   "source": [
    "## Removing correletion pairs >= 0.9"
   ]
  },
  {
   "cell_type": "code",
   "execution_count": 14,
   "metadata": {},
   "outputs": [
    {
     "data": {
      "text/plain": [
       "['TotalSteps', 'ModeratelyActiveDistance']"
      ]
     },
     "execution_count": 14,
     "metadata": {},
     "output_type": "execute_result"
    }
   ],
   "source": [
    "upper_tri = cor_matrix.where(np.triu(np.ones(cor_matrix.shape),k=1).astype(np.bool))\n",
    "to_drop = [column for column in upper_tri.columns if any(upper_tri[column] > 0.9)]\n",
    "to_drop"
   ]
  },
  {
   "cell_type": "code",
   "execution_count": 15,
   "metadata": {},
   "outputs": [
    {
     "data": {
      "text/plain": [
       "Index(['TotalDistance', 'VeryActiveMinutes', 'VeryActiveDistance',\n",
       "       'LightActiveDistance', 'FairlyActiveMinutes'],\n",
       "      dtype='object')"
      ]
     },
     "execution_count": 15,
     "metadata": {},
     "output_type": "execute_result"
    }
   ],
   "source": [
    "max_corr.index.drop(to_drop).drop(['Id'])[:5]"
   ]
  },
  {
   "cell_type": "code",
   "execution_count": 16,
   "metadata": {},
   "outputs": [],
   "source": [
    "x2_train = X_train[['TotalDistance', 'VeryActiveMinutes', 'VeryActiveDistance',\n",
    "                 'LightActiveDistance', 'FairlyActiveMinutes']]\n",
    "x2_train = sm.add_constant(x2_train)\n",
    "x2_test = X_test[['TotalDistance', 'VeryActiveMinutes', 'VeryActiveDistance',\n",
    "                  'LightActiveDistance', 'FairlyActiveMinutes']]\n",
    "x2_test = sm.add_constant(x2_test)"
   ]
  },
  {
   "cell_type": "code",
   "execution_count": 17,
   "metadata": {
    "scrolled": true
   },
   "outputs": [
    {
     "name": "stdout",
     "output_type": "stream",
     "text": [
      "                            OLS Regression Results                            \n",
      "==============================================================================\n",
      "Dep. Variable:               Calories   R-squared:                       0.559\n",
      "Model:                            OLS   Adj. R-squared:                  0.556\n",
      "Method:                 Least Squares   F-statistic:                     180.1\n",
      "Date:                Thu, 04 Feb 2021   Prob (F-statistic):          1.31e-123\n",
      "Time:                        14:42:15   Log-Likelihood:                -5423.9\n",
      "No. Observations:                 715   AIC:                         1.086e+04\n",
      "Df Residuals:                     709   BIC:                         1.089e+04\n",
      "Df Model:                           5                                         \n",
      "Covariance Type:            nonrobust                                         \n",
      "=======================================================================================\n",
      "                          coef    std err          t      P>|t|      [0.025      0.975]\n",
      "---------------------------------------------------------------------------------------\n",
      "const                1531.6597     37.987     40.321      0.000    1457.080    1606.239\n",
      "TotalDistance         132.7361     31.009      4.281      0.000      71.856     193.617\n",
      "VeryActiveMinutes      14.5316      1.019     14.267      0.000      12.532      16.531\n",
      "VeryActiveDistance   -162.6657     34.747     -4.681      0.000    -230.885     -94.447\n",
      "LightActiveDistance     7.2950     32.207      0.227      0.821     -55.938      70.528\n",
      "FairlyActiveMinutes    -3.7765      1.658     -2.278      0.023      -7.031      -0.522\n",
      "==============================================================================\n",
      "Omnibus:                        5.083   Durbin-Watson:                   1.869\n",
      "Prob(Omnibus):                  0.079   Jarque-Bera (JB):                4.235\n",
      "Skew:                          -0.100   Prob(JB):                        0.120\n",
      "Kurtosis:                       2.681   Cond. No.                         136.\n",
      "==============================================================================\n",
      "\n",
      "Notes:\n",
      "[1] Standard Errors assume that the covariance matrix of the errors is correctly specified.\n"
     ]
    }
   ],
   "source": [
    "# Fit and summarize OLS model\n",
    "mod = sm.OLS(endog = y_train, exog = x2_train)\n",
    "res = mod.fit()\n",
    "\n",
    "y_pred = res.predict(x2_test)\n",
    "print(res.summary())"
   ]
  },
  {
   "cell_type": "code",
   "execution_count": 18,
   "metadata": {
    "scrolled": false
   },
   "outputs": [
    {
     "data": {
      "text/plain": [
       "[(0.0, 4500.0), (0.0, 4500.0)]"
      ]
     },
     "execution_count": 18,
     "metadata": {},
     "output_type": "execute_result"
    },
    {
     "data": {
      "image/png": "[encoded data removed]",
      "text/plain": [
       "<Figure size 432x288 with 1 Axes>"
      ]
     },
     "metadata": {
      "needs_background": "light"
     },
     "output_type": "display_data"
    }
   ],
   "source": [
    "ax = sns.scatterplot(x=y_test, y=y_pred)\n",
    "ax.set(ylim =[0,4500],xlim =[0,4500])"
   ]
  },
  {
   "cell_type": "code",
   "execution_count": 19,
   "metadata": {},
   "outputs": [
    {
     "name": "stdout",
     "output_type": "stream",
     "text": [
      "Train MSE: 227266.84619969272\n",
      "Train R^2: 0.5594625066190535\n",
      "Test MSE: 263348.5977387577\n",
      "Test R^2: 0.46117890675113893\n"
     ]
    }
   ],
   "source": [
    "print(\"Train MSE:\", mean_squared_error(y_train,res.fittedvalues)) \n",
    "print(\"Train R^2:\", res.rsquared)\n",
    "print(\"Test MSE:\", mean_squared_error(y_test,y_pred)) \n",
    "print(\"Test R^2:\", r2_score(y_test,y_pred))"
   ]
  },
  {
   "cell_type": "markdown",
   "metadata": {},
   "source": [
    "## Removing correletion pairs >= 0.8"
   ]
  },
  {
   "cell_type": "code",
   "execution_count": 20,
   "metadata": {
    "scrolled": true
   },
   "outputs": [
    {
     "data": {
      "text/plain": [
       "['TotalSteps',\n",
       " 'VeryActiveDistance',\n",
       " 'LightlyActiveMinutes',\n",
       " 'ModeratelyActiveDistance']"
      ]
     },
     "execution_count": 20,
     "metadata": {},
     "output_type": "execute_result"
    }
   ],
   "source": [
    "upper_tri = cor_matrix.where(np.triu(np.ones(cor_matrix.shape),k=1).astype(np.bool))\n",
    "to_drop = [column for column in upper_tri.columns if any(upper_tri[column] > 0.8)]\n",
    "to_drop"
   ]
  },
  {
   "cell_type": "code",
   "execution_count": 21,
   "metadata": {},
   "outputs": [
    {
     "data": {
      "text/plain": [
       "Index(['TotalDistance', 'VeryActiveMinutes', 'LightActiveDistance',\n",
       "       'FairlyActiveMinutes', 'LoggedActivitiesDistance'],\n",
       "      dtype='object')"
      ]
     },
     "execution_count": 21,
     "metadata": {},
     "output_type": "execute_result"
    }
   ],
   "source": [
    "max_corr.index.drop(to_drop).drop(['Id'])[:5]"
   ]
  },
  {
   "cell_type": "code",
   "execution_count": 22,
   "metadata": {},
   "outputs": [],
   "source": [
    "x3_train = X_train[['TotalDistance', 'VeryActiveMinutes', 'LightActiveDistance',\n",
    "       'FairlyActiveMinutes', 'LoggedActivitiesDistance']]\n",
    "x3_train = sm.add_constant(x3_train)\n",
    "x3_test = X_test[['TotalDistance', 'VeryActiveMinutes', 'LightActiveDistance',\n",
    "       'FairlyActiveMinutes', 'LoggedActivitiesDistance']]\n",
    "x3_test = sm.add_constant(x3_test)"
   ]
  },
  {
   "cell_type": "code",
   "execution_count": 23,
   "metadata": {},
   "outputs": [
    {
     "name": "stdout",
     "output_type": "stream",
     "text": [
      "                            OLS Regression Results                            \n",
      "==============================================================================\n",
      "Dep. Variable:               Calories   R-squared:                       0.546\n",
      "Model:                            OLS   Adj. R-squared:                  0.543\n",
      "Method:                 Least Squares   F-statistic:                     170.8\n",
      "Date:                Thu, 04 Feb 2021   Prob (F-statistic):          4.14e-119\n",
      "Time:                        14:42:16   Log-Likelihood:                -5434.4\n",
      "No. Observations:                 715   AIC:                         1.088e+04\n",
      "Df Residuals:                     709   BIC:                         1.091e+04\n",
      "Df Model:                           5                                         \n",
      "Covariance Type:            nonrobust                                         \n",
      "============================================================================================\n",
      "                               coef    std err          t      P>|t|      [0.025      0.975]\n",
      "--------------------------------------------------------------------------------------------\n",
      "const                     1552.8945     38.432     40.406      0.000    1477.440    1628.349\n",
      "TotalDistance               -3.4360     10.485     -0.328      0.743     -24.022      17.150\n",
      "VeryActiveMinutes           12.1249      0.933     12.998      0.000      10.293      13.956\n",
      "LightActiveDistance        140.2927     14.775      9.496      0.000     111.286     169.300\n",
      "FairlyActiveMinutes          2.3556      1.035      2.275      0.023       0.323       4.388\n",
      "LoggedActivitiesDistance    24.9847     28.000      0.892      0.373     -29.988      79.957\n",
      "==============================================================================\n",
      "Omnibus:                        4.323   Durbin-Watson:                   1.892\n",
      "Prob(Omnibus):                  0.115   Jarque-Bera (JB):                4.912\n",
      "Skew:                           0.075   Prob(JB):                       0.0858\n",
      "Kurtosis:                       3.377   Cond. No.                         95.0\n",
      "==============================================================================\n",
      "\n",
      "Notes:\n",
      "[1] Standard Errors assume that the covariance matrix of the errors is correctly specified.\n"
     ]
    }
   ],
   "source": [
    "# Fit and summarize OLS model\n",
    "mod = sm.OLS(endog = y_train, exog = x3_train)\n",
    "res = mod.fit()\n",
    "\n",
    "y_pred = res.predict(x3_test)\n",
    "print(res.summary())"
   ]
  },
  {
   "cell_type": "code",
   "execution_count": 24,
   "metadata": {
    "scrolled": false
   },
   "outputs": [
    {
     "data": {
      "text/plain": [
       "[(0.0, 4500.0), (0.0, 4500.0)]"
      ]
     },
     "execution_count": 24,
     "metadata": {},
     "output_type": "execute_result"
    },
    {
     "data": {
      "image/png": "[encoded data removed]",
      "text/plain": [
       "<Figure size 432x288 with 1 Axes>"
      ]
     },
     "metadata": {
      "needs_background": "light"
     },
     "output_type": "display_data"
    }
   ],
   "source": [
    "ax = sns.scatterplot(x=y_test, y=y_pred)\n",
    "ax.set(ylim =[0,4500],xlim =[0,4500])"
   ]
  },
  {
   "cell_type": "code",
   "execution_count": 25,
   "metadata": {},
   "outputs": [
    {
     "name": "stdout",
     "output_type": "stream",
     "text": [
      "Train MSE: 234029.0969862007\n",
      "Train R^2: 0.546354457376869\n",
      "Test MSE: 296954.74797687674\n",
      "Test R^2: 0.3924194648301621\n"
     ]
    }
   ],
   "source": [
    "print(\"Train MSE:\", mean_squared_error(y_train,res.fittedvalues)) \n",
    "print(\"Train R^2:\", res.rsquared)\n",
    "print(\"Test MSE:\", mean_squared_error(y_test,y_pred)) \n",
    "print(\"Test R^2:\", r2_score(y_test,y_pred))"
   ]
  },
  {
   "cell_type": "code",
   "execution_count": null,
   "metadata": {},
   "outputs": [],
   "source": []
  }
 ],
 "metadata": {
  "kernelspec": {
   "display_name": "Python 3",
   "language": "python",
   "name": "python3"
  },
  "language_info": {
   "codemirror_mode": {
    "name": "ipython",
    "version": 3
   },
   "file_extension": ".py",
   "mimetype": "text/x-python",
   "name": "python",
   "nbconvert_exporter": "python",
   "pygments_lexer": "ipython3",
   "version": "3.7.7"
  }
 },
 "nbformat": 4,
 "nbformat_minor": 4
}
