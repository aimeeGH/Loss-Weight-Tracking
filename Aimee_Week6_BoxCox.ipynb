{
 "cells": [
  {
   "cell_type": "code",
   "execution_count": 1,
   "metadata": {},
   "outputs": [],
   "source": [
    "import numpy as np\n",
    "import pandas as pd\n",
    "import statsmodels.api as sm\n",
    "import seaborn as sns\n",
    "import matplotlib.pyplot as plt\n",
    "\n",
    "from scipy import stats\n",
    "from sklearn.model_selection import train_test_split\n",
    "from sklearn.linear_model import LinearRegression\n",
    "from sklearn.model_selection import train_test_split\n",
    "from sklearn.metrics import r2_score,mean_squared_error"
   ]
  },
  {
   "cell_type": "code",
   "execution_count": 2,
   "metadata": {},
   "outputs": [],
   "source": [
    "dataset = pd.read_csv(\"/Users/aimeexu/Desktop/W2021 DSU Weight Loss/dataset.csv\")"
   ]
  },
  {
   "cell_type": "code",
   "execution_count": 3,
   "metadata": {},
   "outputs": [
    {
     "data": {
      "text/plain": [
       "(894, 14)"
      ]
     },
     "execution_count": 3,
     "metadata": {},
     "output_type": "execute_result"
    }
   ],
   "source": [
    "dataset.head() # added 1 to \"0 Calorie Columns\"\n",
    "dataset.shape"
   ]
  },
  {
   "cell_type": "code",
   "execution_count": 16,
   "metadata": {},
   "outputs": [
    {
     "name": "stdout",
     "output_type": "stream",
     "text": [
      "331    1377\n",
      "735    3410\n",
      "382    2236\n",
      "706    1635\n",
      "815    2505\n",
      "Name: Calories, dtype: int64\n"
     ]
    }
   ],
   "source": [
    "train_calories, test_calories = train_test_split(dataset.Calories, test_size=0.2, random_state=42)\n",
    "print(train_calories.head())"
   ]
  },
  {
   "cell_type": "code",
   "execution_count": 17,
   "metadata": {},
   "outputs": [
    {
     "name": "stdout",
     "output_type": "stream",
     "text": [
      "0.7344905356107915\n"
     ]
    }
   ],
   "source": [
    "# generate non-normal data\n",
    "Y = dataset.Calories\n",
    "\n",
    "# transform training data & save lambda value\n",
    "train_calories_data,fitted_lambda = stats.boxcox(train_calories)\n",
    "print(fitted_lambda)"
   ]
  },
  {
   "cell_type": "code",
   "execution_count": 18,
   "metadata": {},
   "outputs": [],
   "source": [
    "# use lambda value to transform test data\n",
    "test_data = stats.boxcox(test_calories, fitted_lambda)"
   ]
  },
  {
   "cell_type": "code",
   "execution_count": 19,
   "metadata": {},
   "outputs": [
    {
     "data": {
      "text/plain": [
       "<matplotlib.axes._subplots.AxesSubplot at 0x7fc33e22f6d0>"
      ]
     },
     "execution_count": 19,
     "metadata": {},
     "output_type": "execute_result"
    },
    {
     "data": {
      "image/png": "[encoded data removed]",
      "text/plain": [
       "<Figure size 432x288 with 2 Axes>"
      ]
     },
     "metadata": {
      "needs_background": "light"
     },
     "output_type": "display_data"
    }
   ],
   "source": [
    "# plot train & test\n",
    "fig, ax=plt.subplots(1,2)\n",
    "sns.distplot(train_calories, ax=ax[0])\n",
    "sns.distplot(test_calories, ax=ax[1])"
   ]
  },
  {
   "cell_type": "code",
   "execution_count": 20,
   "metadata": {},
   "outputs": [
    {
     "data": {
      "text/plain": [
       "0    264.346694\n",
       "1    245.716749\n",
       "2    243.604385\n",
       "3    240.473964\n",
       "4    252.313444\n",
       "Name: Calories, dtype: float64"
      ]
     },
     "execution_count": 20,
     "metadata": {},
     "output_type": "execute_result"
    }
   ],
   "source": [
    "calories_trans = dataset.Calories**fitted_lambda\n",
    "calories_trans.head()"
   ]
  },
  {
   "cell_type": "code",
   "execution_count": 21,
   "metadata": {},
   "outputs": [
    {
     "data": {
      "text/html": [
       "<div>\n",
       "<style scoped>\n",
       "    .dataframe tbody tr th:only-of-type {\n",
       "        vertical-align: middle;\n",
       "    }\n",
       "\n",
       "    .dataframe tbody tr th {\n",
       "        vertical-align: top;\n",
       "    }\n",
       "\n",
       "    .dataframe thead th {\n",
       "        text-align: right;\n",
       "    }\n",
       "</style>\n",
       "<table border=\"1\" class=\"dataframe\">\n",
       "  <thead>\n",
       "    <tr style=\"text-align: right;\">\n",
       "      <th></th>\n",
       "      <th>Id</th>\n",
       "      <th>Date</th>\n",
       "      <th>TS</th>\n",
       "      <th>TD</th>\n",
       "      <th>LoggedAD</th>\n",
       "      <th>VAD</th>\n",
       "      <th>MAD</th>\n",
       "      <th>LAD</th>\n",
       "      <th>SAD</th>\n",
       "      <th>VAM</th>\n",
       "      <th>FAM</th>\n",
       "      <th>LAM</th>\n",
       "      <th>SM</th>\n",
       "      <th>Calories</th>\n",
       "      <th>Transformed Calories</th>\n",
       "    </tr>\n",
       "  </thead>\n",
       "  <tbody>\n",
       "    <tr>\n",
       "      <th>0</th>\n",
       "      <td>1503960366</td>\n",
       "      <td>4/12/16</td>\n",
       "      <td>13162</td>\n",
       "      <td>8.50</td>\n",
       "      <td>0.0</td>\n",
       "      <td>1.88</td>\n",
       "      <td>0.55</td>\n",
       "      <td>6.06</td>\n",
       "      <td>0.0</td>\n",
       "      <td>25</td>\n",
       "      <td>13</td>\n",
       "      <td>328</td>\n",
       "      <td>728</td>\n",
       "      <td>1985</td>\n",
       "      <td>264.346694</td>\n",
       "    </tr>\n",
       "    <tr>\n",
       "      <th>1</th>\n",
       "      <td>1503960366</td>\n",
       "      <td>4/13/16</td>\n",
       "      <td>10735</td>\n",
       "      <td>6.97</td>\n",
       "      <td>0.0</td>\n",
       "      <td>1.57</td>\n",
       "      <td>0.69</td>\n",
       "      <td>4.71</td>\n",
       "      <td>0.0</td>\n",
       "      <td>21</td>\n",
       "      <td>19</td>\n",
       "      <td>217</td>\n",
       "      <td>776</td>\n",
       "      <td>1797</td>\n",
       "      <td>245.716749</td>\n",
       "    </tr>\n",
       "    <tr>\n",
       "      <th>2</th>\n",
       "      <td>1503960366</td>\n",
       "      <td>4/14/16</td>\n",
       "      <td>10460</td>\n",
       "      <td>6.74</td>\n",
       "      <td>0.0</td>\n",
       "      <td>2.44</td>\n",
       "      <td>0.40</td>\n",
       "      <td>3.91</td>\n",
       "      <td>0.0</td>\n",
       "      <td>30</td>\n",
       "      <td>11</td>\n",
       "      <td>181</td>\n",
       "      <td>1218</td>\n",
       "      <td>1776</td>\n",
       "      <td>243.604385</td>\n",
       "    </tr>\n",
       "    <tr>\n",
       "      <th>3</th>\n",
       "      <td>1503960366</td>\n",
       "      <td>4/15/16</td>\n",
       "      <td>9762</td>\n",
       "      <td>6.28</td>\n",
       "      <td>0.0</td>\n",
       "      <td>2.14</td>\n",
       "      <td>1.26</td>\n",
       "      <td>2.83</td>\n",
       "      <td>0.0</td>\n",
       "      <td>29</td>\n",
       "      <td>34</td>\n",
       "      <td>209</td>\n",
       "      <td>726</td>\n",
       "      <td>1745</td>\n",
       "      <td>240.473964</td>\n",
       "    </tr>\n",
       "    <tr>\n",
       "      <th>4</th>\n",
       "      <td>1503960366</td>\n",
       "      <td>4/16/16</td>\n",
       "      <td>12669</td>\n",
       "      <td>8.16</td>\n",
       "      <td>0.0</td>\n",
       "      <td>2.71</td>\n",
       "      <td>0.41</td>\n",
       "      <td>5.04</td>\n",
       "      <td>0.0</td>\n",
       "      <td>36</td>\n",
       "      <td>10</td>\n",
       "      <td>221</td>\n",
       "      <td>773</td>\n",
       "      <td>1863</td>\n",
       "      <td>252.313444</td>\n",
       "    </tr>\n",
       "  </tbody>\n",
       "</table>\n",
       "</div>"
      ],
      "text/plain": [
       "           Id     Date     TS    TD  LoggedAD   VAD   MAD   LAD  SAD  VAM  \\\n",
       "0  1503960366  4/12/16  13162  8.50       0.0  1.88  0.55  6.06  0.0   25   \n",
       "1  1503960366  4/13/16  10735  6.97       0.0  1.57  0.69  4.71  0.0   21   \n",
       "2  1503960366  4/14/16  10460  6.74       0.0  2.44  0.40  3.91  0.0   30   \n",
       "3  1503960366  4/15/16   9762  6.28       0.0  2.14  1.26  2.83  0.0   29   \n",
       "4  1503960366  4/16/16  12669  8.16       0.0  2.71  0.41  5.04  0.0   36   \n",
       "\n",
       "   FAM  LAM    SM  Calories  Transformed Calories  \n",
       "0   13  328   728      1985            264.346694  \n",
       "1   19  217   776      1797            245.716749  \n",
       "2   11  181  1218      1776            243.604385  \n",
       "3   34  209   726      1745            240.473964  \n",
       "4   10  221   773      1863            252.313444  "
      ]
     },
     "execution_count": 21,
     "metadata": {},
     "output_type": "execute_result"
    }
   ],
   "source": [
    "# Append \"Transformed Calories\" to Dataset\n",
    "df = pd.DataFrame(dataset)\n",
    "df['Transformed Calories'] = calories_trans\n",
    "df.head()"
   ]
  },
  {
   "cell_type": "code",
   "execution_count": 23,
   "metadata": {},
   "outputs": [
    {
     "name": "stdout",
     "output_type": "stream",
     "text": [
      "Shape of full *transformed dataset* is: (894, 15)\n",
      "Shape of training dataset is: (715, 15)\n",
      "Shape of test dataset is: (179, 15)\n"
     ]
    }
   ],
   "source": [
    "# Performing Linear Regression on New Data\n",
    "train, test = train_test_split(df, test_size=0.2, random_state=42)\n",
    "print(f\"Shape of full *transformed dataset* is: {df.shape}\")\n",
    "print(f\"Shape of training dataset is: {train.shape}\")\n",
    "print(f\"Shape of test dataset is: {test.shape}\")"
   ]
  },
  {
   "cell_type": "code",
   "execution_count": 25,
   "metadata": {},
   "outputs": [],
   "source": [
    "# Use the training_data in bii to build \n",
    "# 7 predictors: (TS + TD + VAD + MAD + VAM + FAM + SM)\n",
    "X_train1 = train[['TS', 'TD', 'VAD', 'MAD', 'VAM', 'FAM', 'SM' ]]\n",
    "Y_train1 = train['Transformed Calories']\n",
    "\n",
    "X_test1 = test[['TS', 'TD', 'VAD', 'MAD', 'VAM', 'FAM', 'SM' ]]\n",
    "Y_test1 = test['Transformed Calories']"
   ]
  },
  {
   "cell_type": "code",
   "execution_count": 26,
   "metadata": {},
   "outputs": [
    {
     "name": "stdout",
     "output_type": "stream",
     "text": [
      "Intercept: \n",
      " 188.47218921521917\n",
      "Coefficients: \n",
      " [-3.42246874e-02  6.23015699e+01 -3.00862627e+01 -2.80220152e+01\n",
      "  1.75433965e+00  9.24072722e-01  3.51673069e-02]\n"
     ]
    }
   ],
   "source": [
    "#Performing Linear Regression\n",
    "regression = LinearRegression()\n",
    "regression.fit(X_train1, Y_train1)\n",
    "Y_pred1 = regression.predict(X_test1)\n",
    "\n",
    "print('Intercept: \\n', regression.intercept_)\n",
    "print('Coefficients: \\n', regression.coef_)"
   ]
  },
  {
   "cell_type": "code",
   "execution_count": 27,
   "metadata": {},
   "outputs": [
    {
     "name": "stdout",
     "output_type": "stream",
     "text": [
      "MSE of Test = 1619.9\n",
      "MSE of Train data = 1189.2\n",
      "R^2 of Test = 0.64336\n",
      "R^2 of Train = 0.73966\n"
     ]
    }
   ],
   "source": [
    "# R^2 and MSE\n",
    "r2_test = regression.score(X_test1, Y_test1)\n",
    "r2_train = regression.score(X_train1, Y_train1)\n",
    "mse_test = mean_squared_error(Y_pred1, Y_test1)\n",
    "mse_train = mean_squared_error(Y_train1, regression.predict(X_train1))\n",
    "\n",
    "print(f'MSE of Test = {mse_test:.5}')\n",
    "print(f'MSE of Train data = {mse_train:.5}')\n",
    "print(f'R^2 of Test = {r2_test:.5}')\n",
    "print(f'R^2 of Train = {r2_train:.5}') # I'm getting such a high MSE?"
   ]
  },
  {
   "cell_type": "code",
   "execution_count": 35,
   "metadata": {},
   "outputs": [
    {
     "data": {
      "text/plain": [
       "<matplotlib.legend.Legend at 0x7fc33e8774f0>"
      ]
     },
     "execution_count": 35,
     "metadata": {},
     "output_type": "execute_result"
    },
    {
     "data": {
      "image/png": "[encoded data removed]",
      "text/plain": [
       "<Figure size 720x432 with 1 Axes>"
      ]
     },
     "metadata": {
      "needs_background": "light"
     },
     "output_type": "display_data"
    }
   ],
   "source": [
    "# Graphing Y_actual vs. Y_pred1\n",
    "fig, ax = plt.subplots(1,1, figsize=(10,6))\n",
    "ax.plot(Y_test1, Y_pred1, 'o')\n",
    "grid0 = np.linspace(np.min(calories_trans), np.max(calories_trans), 100)\n",
    "ax.plot(grid0, grid0, color='black', label=\"Ideal\") # 45 degree line\n",
    "ax.set_xlabel(\"Actual y\")\n",
    "ax.set_ylabel(\"Predicted y\")\n",
    "ax.set_title(\"Actual Y vs. Predicted Y\")\n",
    "\n",
    "# plotting the best fit line\n",
    "m, b = np.polyfit(Y_test1, Y_pred1, 1)\n",
    "ax.plot(Y_test1, m*Y_test1 + b, color='red', label=f'Actual: y={m:.2f}x+{b:.2f}')\n",
    "\n",
    "ax.legend()"
   ]
  },
  {
   "cell_type": "code",
   "execution_count": 36,
   "metadata": {},
   "outputs": [
    {
     "name": "stdout",
     "output_type": "stream",
     "text": [
      "Mean of Residuals: -3.808111557248537e-14\n",
      "  feature         VIF\n",
      "0      TS  153.758918\n",
      "1      TD  167.468665\n",
      "2     VAD    8.738766\n",
      "3     MAD   16.797389\n",
      "4     VAM    6.172128\n",
      "5     FAM   17.429215\n",
      "6      SM    2.949999\n"
     ]
    }
   ],
   "source": [
    "from statsmodels.stats.outliers_influence import variance_inflation_factor\n",
    "\n",
    "# check validity\n",
    "prediction = regression.predict(X_train1)\n",
    "residual = Y_train1 - prediction\n",
    "print(f'Mean of Residuals: {residual.mean()}') \n",
    "\n",
    "# the independent variables set \n",
    "X = dataset[['TS', 'TD', 'VAD', 'MAD', 'VAM', 'FAM', 'SM' ]] \n",
    "  \n",
    "# VIF dataframe \n",
    "vif_data = pd.DataFrame() \n",
    "vif_data[\"feature\"] = X.columns \n",
    "  \n",
    "# calculating VIF for each feature \n",
    "vif_data[\"VIF\"] = [variance_inflation_factor(X.values, i) for i in range(len(X.columns))] \n",
    "  \n",
    "print(vif_data) # My VIF is still super high, indicating collinearity..."
   ]
  },
  {
   "cell_type": "code",
   "execution_count": null,
   "metadata": {},
   "outputs": [],
   "source": []
  }
 ],
 "metadata": {
  "kernelspec": {
   "display_name": "Python 3",
   "language": "python",
   "name": "python3"
  },
  "language_info": {
   "codemirror_mode": {
    "name": "ipython",
    "version": 3
   },
   "file_extension": ".py",
   "mimetype": "text/x-python",
   "name": "python",
   "nbconvert_exporter": "python",
   "pygments_lexer": "ipython3",
   "version": "3.8.3"
  }
 },
 "nbformat": 4,
 "nbformat_minor": 4
}
