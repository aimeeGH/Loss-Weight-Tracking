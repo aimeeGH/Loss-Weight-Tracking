{
 "cells": [
  {
   "cell_type": "code",
   "execution_count": 10,
   "metadata": {},
   "outputs": [],
   "source": [
    "import pandas as pd\n",
    "import numpy as np\n",
    "import statsmodels.api as sm"
   ]
  },
  {
   "cell_type": "code",
   "execution_count": 24,
   "metadata": {},
   "outputs": [
    {
     "name": "stdout",
     "output_type": "stream",
     "text": [
      "             Id ActivityDate  TotalSteps  TotalDistance  \\\n",
      "0    1503960366    4/12/2016       13162       8.500000   \n",
      "1    1503960366    4/13/2016       10735       6.970000   \n",
      "2    1503960366    4/14/2016       10460       6.740000   \n",
      "3    1503960366    4/15/2016        9762       6.280000   \n",
      "4    1503960366    4/16/2016       12669       8.160000   \n",
      "..          ...          ...         ...            ...   \n",
      "889  8877689391     5/8/2016       10686       8.110000   \n",
      "890  8877689391     5/9/2016       20226      18.250000   \n",
      "891  8877689391    5/10/2016       10733       8.150000   \n",
      "892  8877689391    5/11/2016       21420      19.559999   \n",
      "893  8877689391    5/12/2016        8064       6.120000   \n",
      "\n",
      "     LoggedActivitiesDistance  VeryActiveDistance  ModeratelyActiveDistance  \\\n",
      "0                         0.0                1.88                      0.55   \n",
      "1                         0.0                1.57                      0.69   \n",
      "2                         0.0                2.44                      0.40   \n",
      "3                         0.0                2.14                      1.26   \n",
      "4                         0.0                2.71                      0.41   \n",
      "..                        ...                 ...                       ...   \n",
      "889                       0.0                1.08                      0.20   \n",
      "890                       0.0               11.10                      0.80   \n",
      "891                       0.0                1.35                      0.46   \n",
      "892                       0.0               13.22                      0.41   \n",
      "893                       0.0                1.82                      0.04   \n",
      "\n",
      "     LightActiveDistance  SedentaryActiveDistance  VeryActiveMinutes  \\\n",
      "0                   6.06                     0.00                 25   \n",
      "1                   4.71                     0.00                 21   \n",
      "2                   3.91                     0.00                 30   \n",
      "3                   2.83                     0.00                 29   \n",
      "4                   5.04                     0.00                 36   \n",
      "..                   ...                      ...                ...   \n",
      "889                 6.80                     0.00                 17   \n",
      "890                 6.24                     0.05                 73   \n",
      "891                 6.28                     0.00                 18   \n",
      "892                 5.89                     0.00                 88   \n",
      "893                 4.25                     0.00                 23   \n",
      "\n",
      "     FairlyActiveMinutes  LightlyActiveMinutes  SedentaryMinutes  Calories  \n",
      "0                     13                   328               728      1985  \n",
      "1                     19                   217               776      1797  \n",
      "2                     11                   181              1218      1776  \n",
      "3                     34                   209               726      1745  \n",
      "4                     10                   221               773      1863  \n",
      "..                   ...                   ...               ...       ...  \n",
      "889                    4                   245              1174      2847  \n",
      "890                   19                   217              1131      3710  \n",
      "891                   11                   224              1187      2832  \n",
      "892                   12                   213              1127      3832  \n",
      "893                    1                   137               770      1849  \n",
      "\n",
      "[894 rows x 14 columns]\n"
     ]
    }
   ],
   "source": [
    "df = pd.read_csv (r'~/Desktop/cleaned_dataset.csv')\n",
    "print (df)"
   ]
  },
  {
   "cell_type": "code",
   "execution_count": 44,
   "metadata": {},
   "outputs": [
    {
     "data": {
      "text/html": [
       "<table class=\"simpletable\">\n",
       "<caption>OLS Regression Results</caption>\n",
       "<tr>\n",
       "  <th>Dep. Variable:</th>        <td>Calories</td>     <th>  R-squared:         </th> <td>   0.287</td> \n",
       "</tr>\n",
       "<tr>\n",
       "  <th>Model:</th>                   <td>OLS</td>       <th>  Adj. R-squared:    </th> <td>   0.286</td> \n",
       "</tr>\n",
       "<tr>\n",
       "  <th>Method:</th>             <td>Least Squares</td>  <th>  F-statistic:       </th> <td>   359.1</td> \n",
       "</tr>\n",
       "<tr>\n",
       "  <th>Date:</th>             <td>Wed, 27 Jan 2021</td> <th>  Prob (F-statistic):</th> <td>1.46e-67</td> \n",
       "</tr>\n",
       "<tr>\n",
       "  <th>Time:</th>                 <td>12:34:46</td>     <th>  Log-Likelihood:    </th> <td> -6992.3</td> \n",
       "</tr>\n",
       "<tr>\n",
       "  <th>No. Observations:</th>      <td>   894</td>      <th>  AIC:               </th> <td>1.399e+04</td>\n",
       "</tr>\n",
       "<tr>\n",
       "  <th>Df Residuals:</th>          <td>   892</td>      <th>  BIC:               </th> <td>1.400e+04</td>\n",
       "</tr>\n",
       "<tr>\n",
       "  <th>Df Model:</th>              <td>     1</td>      <th>                     </th>     <td> </td>    \n",
       "</tr>\n",
       "<tr>\n",
       "  <th>Covariance Type:</th>      <td>nonrobust</td>    <th>                     </th>     <td> </td>    \n",
       "</tr>\n",
       "</table>\n",
       "<table class=\"simpletable\">\n",
       "<tr>\n",
       "        <td></td>           <th>coef</th>     <th>std err</th>      <th>t</th>      <th>P>|t|</th>  <th>[0.025</th>    <th>0.975]</th>  \n",
       "</tr>\n",
       "<tr>\n",
       "  <th>const</th>         <td> 2066.6949</td> <td>   24.662</td> <td>   83.802</td> <td> 0.000</td> <td> 2018.293</td> <td> 2115.096</td>\n",
       "</tr>\n",
       "<tr>\n",
       "  <th>TotalDistance</th> <td>    5.6007</td> <td>    0.296</td> <td>   18.950</td> <td> 0.000</td> <td>    5.021</td> <td>    6.181</td>\n",
       "</tr>\n",
       "</table>\n",
       "<table class=\"simpletable\">\n",
       "<tr>\n",
       "  <th>Omnibus:</th>       <td>47.862</td> <th>  Durbin-Watson:     </th> <td>   0.676</td>\n",
       "</tr>\n",
       "<tr>\n",
       "  <th>Prob(Omnibus):</th> <td> 0.000</td> <th>  Jarque-Bera (JB):  </th> <td> 164.884</td>\n",
       "</tr>\n",
       "<tr>\n",
       "  <th>Skew:</th>          <td> 0.060</td> <th>  Prob(JB):          </th> <td>1.57e-36</td>\n",
       "</tr>\n",
       "<tr>\n",
       "  <th>Kurtosis:</th>      <td> 5.100</td> <th>  Cond. No.          </th> <td>    102.</td>\n",
       "</tr>\n",
       "</table><br/><br/>Warnings:<br/>[1] Standard Errors assume that the covariance matrix of the errors is correctly specified."
      ],
      "text/plain": [
       "<class 'statsmodels.iolib.summary.Summary'>\n",
       "\"\"\"\n",
       "                            OLS Regression Results                            \n",
       "==============================================================================\n",
       "Dep. Variable:               Calories   R-squared:                       0.287\n",
       "Model:                            OLS   Adj. R-squared:                  0.286\n",
       "Method:                 Least Squares   F-statistic:                     359.1\n",
       "Date:                Wed, 27 Jan 2021   Prob (F-statistic):           1.46e-67\n",
       "Time:                        12:34:46   Log-Likelihood:                -6992.3\n",
       "No. Observations:                 894   AIC:                         1.399e+04\n",
       "Df Residuals:                     892   BIC:                         1.400e+04\n",
       "Df Model:                           1                                         \n",
       "Covariance Type:            nonrobust                                         \n",
       "=================================================================================\n",
       "                    coef    std err          t      P>|t|      [0.025      0.975]\n",
       "---------------------------------------------------------------------------------\n",
       "const          2066.6949     24.662     83.802      0.000    2018.293    2115.096\n",
       "TotalDistance     5.6007      0.296     18.950      0.000       5.021       6.181\n",
       "==============================================================================\n",
       "Omnibus:                       47.862   Durbin-Watson:                   0.676\n",
       "Prob(Omnibus):                  0.000   Jarque-Bera (JB):              164.884\n",
       "Skew:                           0.060   Prob(JB):                     1.57e-36\n",
       "Kurtosis:                       5.100   Cond. No.                         102.\n",
       "==============================================================================\n",
       "\n",
       "Warnings:\n",
       "[1] Standard Errors assume that the covariance matrix of the errors is correctly specified.\n",
       "\"\"\""
      ]
     },
     "execution_count": 44,
     "metadata": {},
     "output_type": "execute_result"
    }
   ],
   "source": [
    "X_1 = df[\"TotalDistance\"] ** 2\n",
    "Y = df[\"Calories\"]\n",
    "X_1 = sm.add_constant(X)\n",
    "model_1 = sm.OLS(Y, X_1).fit() ## sm.OLS(output, input)\n",
    "predictions_1 = model_1.predict(X_1)\n",
    "model_1.summary()"
   ]
  },
  {
   "cell_type": "code",
   "execution_count": 84,
   "metadata": {},
   "outputs": [
    {
     "data": {
      "text/html": [
       "<table class=\"simpletable\">\n",
       "<caption>OLS Regression Results</caption>\n",
       "<tr>\n",
       "  <th>Dep. Variable:</th>        <td>Calories</td>     <th>  R-squared:         </th> <td>   0.294</td> \n",
       "</tr>\n",
       "<tr>\n",
       "  <th>Model:</th>                   <td>OLS</td>       <th>  Adj. R-squared:    </th> <td>   0.294</td> \n",
       "</tr>\n",
       "<tr>\n",
       "  <th>Method:</th>             <td>Least Squares</td>  <th>  F-statistic:       </th> <td>   372.2</td> \n",
       "</tr>\n",
       "<tr>\n",
       "  <th>Date:</th>             <td>Wed, 27 Jan 2021</td> <th>  Prob (F-statistic):</th> <td>1.40e-69</td> \n",
       "</tr>\n",
       "<tr>\n",
       "  <th>Time:</th>                 <td>14:39:00</td>     <th>  Log-Likelihood:    </th> <td> -6987.7</td> \n",
       "</tr>\n",
       "<tr>\n",
       "  <th>No. Observations:</th>      <td>   894</td>      <th>  AIC:               </th> <td>1.398e+04</td>\n",
       "</tr>\n",
       "<tr>\n",
       "  <th>Df Residuals:</th>          <td>   892</td>      <th>  BIC:               </th> <td>1.399e+04</td>\n",
       "</tr>\n",
       "<tr>\n",
       "  <th>Df Model:</th>              <td>     1</td>      <th>                     </th>     <td> </td>    \n",
       "</tr>\n",
       "<tr>\n",
       "  <th>Covariance Type:</th>      <td>nonrobust</td>    <th>                     </th>     <td> </td>    \n",
       "</tr>\n",
       "</table>\n",
       "<table class=\"simpletable\">\n",
       "<tr>\n",
       "          <td></td>             <th>coef</th>     <th>std err</th>      <th>t</th>      <th>P>|t|</th>  <th>[0.025</th>    <th>0.975]</th>  \n",
       "</tr>\n",
       "<tr>\n",
       "  <th>const</th>             <td> 2188.9889</td> <td>   21.470</td> <td>  101.956</td> <td> 0.000</td> <td> 2146.851</td> <td> 2231.126</td>\n",
       "</tr>\n",
       "<tr>\n",
       "  <th>VeryActiveMinutes</th> <td>    0.0909</td> <td>    0.005</td> <td>   19.292</td> <td> 0.000</td> <td>    0.082</td> <td>    0.100</td>\n",
       "</tr>\n",
       "</table>\n",
       "<table class=\"simpletable\">\n",
       "<tr>\n",
       "  <th>Omnibus:</th>       <td>14.883</td> <th>  Durbin-Watson:     </th> <td>   0.763</td>\n",
       "</tr>\n",
       "<tr>\n",
       "  <th>Prob(Omnibus):</th> <td> 0.001</td> <th>  Jarque-Bera (JB):  </th> <td>  25.999</td>\n",
       "</tr>\n",
       "<tr>\n",
       "  <th>Skew:</th>          <td>-0.036</td> <th>  Prob(JB):          </th> <td>2.26e-06</td>\n",
       "</tr>\n",
       "<tr>\n",
       "  <th>Kurtosis:</th>      <td> 3.832</td> <th>  Cond. No.          </th> <td>4.87e+03</td>\n",
       "</tr>\n",
       "</table><br/><br/>Warnings:<br/>[1] Standard Errors assume that the covariance matrix of the errors is correctly specified.<br/>[2] The condition number is large, 4.87e+03. This might indicate that there are<br/>strong multicollinearity or other numerical problems."
      ],
      "text/plain": [
       "<class 'statsmodels.iolib.summary.Summary'>\n",
       "\"\"\"\n",
       "                            OLS Regression Results                            \n",
       "==============================================================================\n",
       "Dep. Variable:               Calories   R-squared:                       0.294\n",
       "Model:                            OLS   Adj. R-squared:                  0.294\n",
       "Method:                 Least Squares   F-statistic:                     372.2\n",
       "Date:                Wed, 27 Jan 2021   Prob (F-statistic):           1.40e-69\n",
       "Time:                        14:39:00   Log-Likelihood:                -6987.7\n",
       "No. Observations:                 894   AIC:                         1.398e+04\n",
       "Df Residuals:                     892   BIC:                         1.399e+04\n",
       "Df Model:                           1                                         \n",
       "Covariance Type:            nonrobust                                         \n",
       "=====================================================================================\n",
       "                        coef    std err          t      P>|t|      [0.025      0.975]\n",
       "-------------------------------------------------------------------------------------\n",
       "const              2188.9889     21.470    101.956      0.000    2146.851    2231.126\n",
       "VeryActiveMinutes     0.0909      0.005     19.292      0.000       0.082       0.100\n",
       "==============================================================================\n",
       "Omnibus:                       14.883   Durbin-Watson:                   0.763\n",
       "Prob(Omnibus):                  0.001   Jarque-Bera (JB):               25.999\n",
       "Skew:                          -0.036   Prob(JB):                     2.26e-06\n",
       "Kurtosis:                       3.832   Cond. No.                     4.87e+03\n",
       "==============================================================================\n",
       "\n",
       "Warnings:\n",
       "[1] Standard Errors assume that the covariance matrix of the errors is correctly specified.\n",
       "[2] The condition number is large, 4.87e+03. This might indicate that there are\n",
       "strong multicollinearity or other numerical problems.\n",
       "\"\"\""
      ]
     },
     "execution_count": 84,
     "metadata": {},
     "output_type": "execute_result"
    }
   ],
   "source": [
    "X_2 = df[\"VeryActiveMinutes\"] ** 2\n",
    "Y = df[\"Calories\"]\n",
    "X_2 = sm.add_constant(X_2)\n",
    "model_2 = sm.OLS(Y, X_2).fit() ## sm.OLS(output, input)\n",
    "predictions_2 = model_2.predict(X_2)\n",
    "model_2.summary()"
   ]
  },
  {
   "cell_type": "code",
   "execution_count": 42,
   "metadata": {},
   "outputs": [
    {
     "data": {
      "text/html": [
       "<table class=\"simpletable\">\n",
       "<caption>OLS Regression Results</caption>\n",
       "<tr>\n",
       "  <th>Dep. Variable:</th>        <td>Calories</td>     <th>  R-squared:         </th> <td>   0.260</td> \n",
       "</tr>\n",
       "<tr>\n",
       "  <th>Model:</th>                   <td>OLS</td>       <th>  Adj. R-squared:    </th> <td>   0.259</td> \n",
       "</tr>\n",
       "<tr>\n",
       "  <th>Method:</th>             <td>Least Squares</td>  <th>  F-statistic:       </th> <td>   312.8</td> \n",
       "</tr>\n",
       "<tr>\n",
       "  <th>Date:</th>             <td>Wed, 27 Jan 2021</td> <th>  Prob (F-statistic):</th> <td>3.13e-60</td> \n",
       "</tr>\n",
       "<tr>\n",
       "  <th>Time:</th>                 <td>12:34:39</td>     <th>  Log-Likelihood:    </th> <td> -7009.2</td> \n",
       "</tr>\n",
       "<tr>\n",
       "  <th>No. Observations:</th>      <td>   894</td>      <th>  AIC:               </th> <td>1.402e+04</td>\n",
       "</tr>\n",
       "<tr>\n",
       "  <th>Df Residuals:</th>          <td>   892</td>      <th>  BIC:               </th> <td>1.403e+04</td>\n",
       "</tr>\n",
       "<tr>\n",
       "  <th>Df Model:</th>              <td>     1</td>      <th>                     </th>     <td> </td>    \n",
       "</tr>\n",
       "<tr>\n",
       "  <th>Covariance Type:</th>      <td>nonrobust</td>    <th>                     </th>     <td> </td>    \n",
       "</tr>\n",
       "</table>\n",
       "<table class=\"simpletable\">\n",
       "<tr>\n",
       "       <td></td>         <th>coef</th>     <th>std err</th>      <th>t</th>      <th>P>|t|</th>  <th>[0.025</th>    <th>0.975]</th>  \n",
       "</tr>\n",
       "<tr>\n",
       "  <th>const</th>      <td> 2026.5056</td> <td>   26.974</td> <td>   75.128</td> <td> 0.000</td> <td> 1973.566</td> <td> 2079.445</td>\n",
       "</tr>\n",
       "<tr>\n",
       "  <th>TotalSteps</th> <td> 3.482e-06</td> <td> 1.97e-07</td> <td>   17.686</td> <td> 0.000</td> <td>  3.1e-06</td> <td> 3.87e-06</td>\n",
       "</tr>\n",
       "</table>\n",
       "<table class=\"simpletable\">\n",
       "<tr>\n",
       "  <th>Omnibus:</th>       <td>41.467</td> <th>  Durbin-Watson:     </th> <td>   0.556</td>\n",
       "</tr>\n",
       "<tr>\n",
       "  <th>Prob(Omnibus):</th> <td> 0.000</td> <th>  Jarque-Bera (JB):  </th> <td> 128.225</td>\n",
       "</tr>\n",
       "<tr>\n",
       "  <th>Skew:</th>          <td> 0.047</td> <th>  Prob(JB):          </th> <td>1.43e-28</td>\n",
       "</tr>\n",
       "<tr>\n",
       "  <th>Kurtosis:</th>      <td> 4.853</td> <th>  Cond. No.          </th> <td>1.79e+08</td>\n",
       "</tr>\n",
       "</table><br/><br/>Warnings:<br/>[1] Standard Errors assume that the covariance matrix of the errors is correctly specified.<br/>[2] The condition number is large, 1.79e+08. This might indicate that there are<br/>strong multicollinearity or other numerical problems."
      ],
      "text/plain": [
       "<class 'statsmodels.iolib.summary.Summary'>\n",
       "\"\"\"\n",
       "                            OLS Regression Results                            \n",
       "==============================================================================\n",
       "Dep. Variable:               Calories   R-squared:                       0.260\n",
       "Model:                            OLS   Adj. R-squared:                  0.259\n",
       "Method:                 Least Squares   F-statistic:                     312.8\n",
       "Date:                Wed, 27 Jan 2021   Prob (F-statistic):           3.13e-60\n",
       "Time:                        12:34:39   Log-Likelihood:                -7009.2\n",
       "No. Observations:                 894   AIC:                         1.402e+04\n",
       "Df Residuals:                     892   BIC:                         1.403e+04\n",
       "Df Model:                           1                                         \n",
       "Covariance Type:            nonrobust                                         \n",
       "==============================================================================\n",
       "                 coef    std err          t      P>|t|      [0.025      0.975]\n",
       "------------------------------------------------------------------------------\n",
       "const       2026.5056     26.974     75.128      0.000    1973.566    2079.445\n",
       "TotalSteps  3.482e-06   1.97e-07     17.686      0.000     3.1e-06    3.87e-06\n",
       "==============================================================================\n",
       "Omnibus:                       41.467   Durbin-Watson:                   0.556\n",
       "Prob(Omnibus):                  0.000   Jarque-Bera (JB):              128.225\n",
       "Skew:                           0.047   Prob(JB):                     1.43e-28\n",
       "Kurtosis:                       4.853   Cond. No.                     1.79e+08\n",
       "==============================================================================\n",
       "\n",
       "Warnings:\n",
       "[1] Standard Errors assume that the covariance matrix of the errors is correctly specified.\n",
       "[2] The condition number is large, 1.79e+08. This might indicate that there are\n",
       "strong multicollinearity or other numerical problems.\n",
       "\"\"\""
      ]
     },
     "execution_count": 42,
     "metadata": {},
     "output_type": "execute_result"
    }
   ],
   "source": [
    "X_3 = df[\"TotalSteps\"] ** 2\n",
    "Y = df[\"Calories\"]\n",
    "X_3 = sm.add_constant(X_3)\n",
    "model_3 = sm.OLS(Y, X_3).fit() ## sm.OLS(output, input)\n",
    "predictions_3 = model_3.predict(X_3)\n",
    "model_3.summary()"
   ]
  },
  {
   "cell_type": "code",
   "execution_count": 45,
   "metadata": {},
   "outputs": [
    {
     "name": "stdout",
     "output_type": "stream",
     "text": [
      "0      2471.343556\n",
      "1      2338.780640\n",
      "2      2321.120036\n",
      "3      2287.576514\n",
      "4      2439.619087\n",
      "          ...     \n",
      "889    2435.062922\n",
      "890    3932.069195\n",
      "891    2438.705597\n",
      "892    4209.476595\n",
      "893    2276.464756\n",
      "Length: 894, dtype: float64\n",
      "0      2245.790787\n",
      "1      2229.068303\n",
      "2      2270.783630\n",
      "3      2265.421529\n",
      "4      2306.773323\n",
      "          ...     \n",
      "889    2215.254078\n",
      "890    2673.304718\n",
      "891    2218.434985\n",
      "892    2892.787316\n",
      "893    2237.066013\n",
      "Length: 894, dtype: float64\n",
      "0      2629.793021\n",
      "1      2427.819875\n",
      "2      2407.522187\n",
      "3      2358.368058\n",
      "4      2585.445576\n",
      "          ...     \n",
      "889    2424.164632\n",
      "890    3451.130359\n",
      "891    2427.670354\n",
      "892    3624.294551\n",
      "893    2252.960426\n",
      "Length: 894, dtype: float64\n"
     ]
    }
   ],
   "source": [
    "print (predictions_1)\n",
    "print (predictions_2)\n",
    "print (predictions_3)"
   ]
  },
  {
   "cell_type": "code",
   "execution_count": 40,
   "metadata": {},
   "outputs": [
    {
     "name": "stdout",
     "output_type": "stream",
     "text": [
      "0      2629.793021\n",
      "1      2427.819875\n",
      "2      2407.522187\n",
      "3      2358.368058\n",
      "4      2585.445576\n",
      "          ...     \n",
      "889    2424.164632\n",
      "890    3451.130359\n",
      "891    2427.670354\n",
      "892    3624.294551\n",
      "893    2252.960426\n",
      "Length: 894, dtype: float64\n"
     ]
    }
   ],
   "source": []
  },
  {
   "cell_type": "code",
   "execution_count": 57,
   "metadata": {},
   "outputs": [],
   "source": [
    "%matplotlib inline\n",
    "import matplotlib.pyplot as plt"
   ]
  },
  {
   "cell_type": "code",
   "execution_count": 61,
   "metadata": {},
   "outputs": [
    {
     "data": {
      "image/png": "[encoded data removed]",
      "text/plain": [
       "<Figure size 432x288 with 1 Axes>"
      ]
     },
     "metadata": {
      "needs_background": "light"
     },
     "output_type": "display_data"
    }
   ],
   "source": [
    "plt.plot(X_1, Y, 'o', color='goldenrod');\n"
   ]
  },
  {
   "cell_type": "code",
   "execution_count": 59,
   "metadata": {},
   "outputs": [
    {
     "data": {
      "image/png": "[encoded data removed]",
      "text/plain": [
       "<Figure size 432x288 with 1 Axes>"
      ]
     },
     "metadata": {
      "needs_background": "light"
     },
     "output_type": "display_data"
    }
   ],
   "source": [
    "plt.plot(X_2, Y, 'o', color='tomato');\n"
   ]
  },
  {
   "cell_type": "code",
   "execution_count": 62,
   "metadata": {},
   "outputs": [
    {
     "data": {
      "image/png": "[encoded data removed]",
      "text/plain": [
       "<Figure size 432x288 with 1 Axes>"
      ]
     },
     "metadata": {
      "needs_background": "light"
     },
     "output_type": "display_data"
    }
   ],
   "source": [
    "plt.plot(X_3, Y, 'o', color='dodgerblue');\n"
   ]
  },
  {
   "cell_type": "code",
   "execution_count": 83,
   "metadata": {},
   "outputs": [
    {
     "name": "stdout",
     "output_type": "stream",
     "text": [
      "0.28703924911714707\n",
      "0.29441104396820894\n",
      "0.25961730452677334\n",
      "364820.4263761722\n",
      "361048.29538944986\n",
      "378852.17427412583\n"
     ]
    }
   ],
   "source": [
    "print(model_1.mse_resid)\n",
    "print(model_2.mse_resid)\n",
    "print(model_3.mse_resid)"
   ]
  },
  {
   "cell_type": "code",
   "execution_count": null,
   "metadata": {},
   "outputs": [],
   "source": [
    "print (model_1.rsquared)\n",
    "print (model_2.rsquared)\n",
    "print (model_3.rsquared)"
   ]
  }
 ],
 "metadata": {
  "kernelspec": {
   "display_name": "Python 3",
   "language": "python",
   "name": "python3"
  },
  "language_info": {
   "codemirror_mode": {
    "name": "ipython",
    "version": 3
   },
   "file_extension": ".py",
   "mimetype": "text/x-python",
   "name": "python",
   "nbconvert_exporter": "python",
   "pygments_lexer": "ipython3",
   "version": "3.8.3"
  }
 },
 "nbformat": 4,
 "nbformat_minor": 4
}
