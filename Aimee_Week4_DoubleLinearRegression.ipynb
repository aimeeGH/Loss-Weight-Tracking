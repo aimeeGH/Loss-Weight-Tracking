{
 "cells": [
  {
   "cell_type": "code",
   "execution_count": 11,
   "metadata": {},
   "outputs": [],
   "source": [
    "# I wanted to compare these against calories burned; most promising predictors\n",
    "#1 - VeryActiveMinutes vs. VeryActiveDistance\n",
    "#2 - TotalDistance vs. TotalSteps\n",
    "#3 - FairlyActiveMinutes vs. ModeratelyActiveDistance\n",
    "\n",
    "import pandas as pd\n",
    "import numpy as np\n",
    "import statsmodels.api as sm\n",
    "import seaborn as sns\n",
    "import matplotlib.pyplot as plt\n",
    "\n",
    "from sklearn import linear_model\n",
    "from sklearn.linear_model import LinearRegression\n",
    "from sklearn.model_selection import train_test_split\n",
    "from sklearn.metrics import r2_score,mean_squared_error"
   ]
  },
  {
   "cell_type": "code",
   "execution_count": 15,
   "metadata": {},
   "outputs": [
    {
     "name": "stdout",
     "output_type": "stream",
     "text": [
      "Data Successfully Imported\n"
     ]
    }
   ],
   "source": [
    "dataset = pd.read_csv(\"/Users/aimeexu/Desktop/dataset.csv\")\n",
    "print(\"Data Successfully Imported\")"
   ]
  },
  {
   "cell_type": "code",
   "execution_count": 146,
   "metadata": {
    "scrolled": true
   },
   "outputs": [
    {
     "data": {
      "text/html": [
       "<div>\n",
       "<style scoped>\n",
       "    .dataframe tbody tr th:only-of-type {\n",
       "        vertical-align: middle;\n",
       "    }\n",
       "\n",
       "    .dataframe tbody tr th {\n",
       "        vertical-align: top;\n",
       "    }\n",
       "\n",
       "    .dataframe thead th {\n",
       "        text-align: right;\n",
       "    }\n",
       "</style>\n",
       "<table border=\"1\" class=\"dataframe\">\n",
       "  <thead>\n",
       "    <tr style=\"text-align: right;\">\n",
       "      <th></th>\n",
       "      <th>Id</th>\n",
       "      <th>ActivityDate</th>\n",
       "      <th>TotalSteps</th>\n",
       "      <th>TotalDistance</th>\n",
       "      <th>LoggedActivitiesDistance</th>\n",
       "      <th>VeryActiveDistance</th>\n",
       "      <th>ModeratelyActiveDistance</th>\n",
       "      <th>LightActiveDistance</th>\n",
       "      <th>SedentaryActiveDistance</th>\n",
       "      <th>VeryActiveMinutes</th>\n",
       "      <th>FairlyActiveMinutes</th>\n",
       "      <th>LightlyActiveMinutes</th>\n",
       "      <th>SedentaryMinutes</th>\n",
       "      <th>Calories</th>\n",
       "    </tr>\n",
       "  </thead>\n",
       "  <tbody>\n",
       "    <tr>\n",
       "      <th>0</th>\n",
       "      <td>1503960366</td>\n",
       "      <td>4/12/16</td>\n",
       "      <td>13162</td>\n",
       "      <td>8.50</td>\n",
       "      <td>0.0</td>\n",
       "      <td>1.88</td>\n",
       "      <td>0.55</td>\n",
       "      <td>6.06</td>\n",
       "      <td>0.0</td>\n",
       "      <td>25</td>\n",
       "      <td>13</td>\n",
       "      <td>328</td>\n",
       "      <td>728</td>\n",
       "      <td>1985</td>\n",
       "    </tr>\n",
       "    <tr>\n",
       "      <th>1</th>\n",
       "      <td>1503960366</td>\n",
       "      <td>4/13/16</td>\n",
       "      <td>10735</td>\n",
       "      <td>6.97</td>\n",
       "      <td>0.0</td>\n",
       "      <td>1.57</td>\n",
       "      <td>0.69</td>\n",
       "      <td>4.71</td>\n",
       "      <td>0.0</td>\n",
       "      <td>21</td>\n",
       "      <td>19</td>\n",
       "      <td>217</td>\n",
       "      <td>776</td>\n",
       "      <td>1797</td>\n",
       "    </tr>\n",
       "    <tr>\n",
       "      <th>2</th>\n",
       "      <td>1503960366</td>\n",
       "      <td>4/14/16</td>\n",
       "      <td>10460</td>\n",
       "      <td>6.74</td>\n",
       "      <td>0.0</td>\n",
       "      <td>2.44</td>\n",
       "      <td>0.40</td>\n",
       "      <td>3.91</td>\n",
       "      <td>0.0</td>\n",
       "      <td>30</td>\n",
       "      <td>11</td>\n",
       "      <td>181</td>\n",
       "      <td>1218</td>\n",
       "      <td>1776</td>\n",
       "    </tr>\n",
       "    <tr>\n",
       "      <th>3</th>\n",
       "      <td>1503960366</td>\n",
       "      <td>4/15/16</td>\n",
       "      <td>9762</td>\n",
       "      <td>6.28</td>\n",
       "      <td>0.0</td>\n",
       "      <td>2.14</td>\n",
       "      <td>1.26</td>\n",
       "      <td>2.83</td>\n",
       "      <td>0.0</td>\n",
       "      <td>29</td>\n",
       "      <td>34</td>\n",
       "      <td>209</td>\n",
       "      <td>726</td>\n",
       "      <td>1745</td>\n",
       "    </tr>\n",
       "    <tr>\n",
       "      <th>4</th>\n",
       "      <td>1503960366</td>\n",
       "      <td>4/16/16</td>\n",
       "      <td>12669</td>\n",
       "      <td>8.16</td>\n",
       "      <td>0.0</td>\n",
       "      <td>2.71</td>\n",
       "      <td>0.41</td>\n",
       "      <td>5.04</td>\n",
       "      <td>0.0</td>\n",
       "      <td>36</td>\n",
       "      <td>10</td>\n",
       "      <td>221</td>\n",
       "      <td>773</td>\n",
       "      <td>1863</td>\n",
       "    </tr>\n",
       "  </tbody>\n",
       "</table>\n",
       "</div>"
      ],
      "text/plain": [
       "           Id ActivityDate  TotalSteps  TotalDistance  \\\n",
       "0  1503960366      4/12/16       13162           8.50   \n",
       "1  1503960366      4/13/16       10735           6.97   \n",
       "2  1503960366      4/14/16       10460           6.74   \n",
       "3  1503960366      4/15/16        9762           6.28   \n",
       "4  1503960366      4/16/16       12669           8.16   \n",
       "\n",
       "   LoggedActivitiesDistance  VeryActiveDistance  ModeratelyActiveDistance  \\\n",
       "0                       0.0                1.88                      0.55   \n",
       "1                       0.0                1.57                      0.69   \n",
       "2                       0.0                2.44                      0.40   \n",
       "3                       0.0                2.14                      1.26   \n",
       "4                       0.0                2.71                      0.41   \n",
       "\n",
       "   LightActiveDistance  SedentaryActiveDistance  VeryActiveMinutes  \\\n",
       "0                 6.06                      0.0                 25   \n",
       "1                 4.71                      0.0                 21   \n",
       "2                 3.91                      0.0                 30   \n",
       "3                 2.83                      0.0                 29   \n",
       "4                 5.04                      0.0                 36   \n",
       "\n",
       "   FairlyActiveMinutes  LightlyActiveMinutes  SedentaryMinutes  Calories  \n",
       "0                   13                   328               728      1985  \n",
       "1                   19                   217               776      1797  \n",
       "2                   11                   181              1218      1776  \n",
       "3                   34                   209               726      1745  \n",
       "4                   10                   221               773      1863  "
      ]
     },
     "execution_count": 146,
     "metadata": {},
     "output_type": "execute_result"
    }
   ],
   "source": [
    "dataset.head()"
   ]
  },
  {
   "cell_type": "code",
   "execution_count": 10,
   "metadata": {},
   "outputs": [
    {
     "data": {
      "text/html": [
       "<div>\n",
       "<style scoped>\n",
       "    .dataframe tbody tr th:only-of-type {\n",
       "        vertical-align: middle;\n",
       "    }\n",
       "\n",
       "    .dataframe tbody tr th {\n",
       "        vertical-align: top;\n",
       "    }\n",
       "\n",
       "    .dataframe thead th {\n",
       "        text-align: right;\n",
       "    }\n",
       "</style>\n",
       "<table border=\"1\" class=\"dataframe\">\n",
       "  <thead>\n",
       "    <tr style=\"text-align: right;\">\n",
       "      <th></th>\n",
       "      <th>Id</th>\n",
       "      <th>TotalSteps</th>\n",
       "      <th>TotalDistance</th>\n",
       "      <th>LoggedActivitiesDistance</th>\n",
       "      <th>VeryActiveDistance</th>\n",
       "      <th>ModeratelyActiveDistance</th>\n",
       "      <th>LightActiveDistance</th>\n",
       "      <th>SedentaryActiveDistance</th>\n",
       "      <th>VeryActiveMinutes</th>\n",
       "      <th>FairlyActiveMinutes</th>\n",
       "      <th>LightlyActiveMinutes</th>\n",
       "      <th>SedentaryMinutes</th>\n",
       "      <th>Calories</th>\n",
       "    </tr>\n",
       "  </thead>\n",
       "  <tbody>\n",
       "    <tr>\n",
       "      <th>count</th>\n",
       "      <td>8.940000e+02</td>\n",
       "      <td>894.000000</td>\n",
       "      <td>894.000000</td>\n",
       "      <td>894.000000</td>\n",
       "      <td>894.000000</td>\n",
       "      <td>894.000000</td>\n",
       "      <td>894.000000</td>\n",
       "      <td>894.000000</td>\n",
       "      <td>894.000000</td>\n",
       "      <td>894.000000</td>\n",
       "      <td>894.000000</td>\n",
       "      <td>894.000000</td>\n",
       "      <td>894.000000</td>\n",
       "    </tr>\n",
       "    <tr>\n",
       "      <th>mean</th>\n",
       "      <td>4.782378e+09</td>\n",
       "      <td>8030.912752</td>\n",
       "      <td>5.772170</td>\n",
       "      <td>0.113737</td>\n",
       "      <td>1.580000</td>\n",
       "      <td>0.596745</td>\n",
       "      <td>3.512718</td>\n",
       "      <td>0.001689</td>\n",
       "      <td>22.253915</td>\n",
       "      <td>14.262864</td>\n",
       "      <td>202.733781</td>\n",
       "      <td>969.605145</td>\n",
       "      <td>2334.772931</td>\n",
       "    </tr>\n",
       "    <tr>\n",
       "      <th>std</th>\n",
       "      <td>2.434238e+09</td>\n",
       "      <td>4904.332852</td>\n",
       "      <td>3.816237</td>\n",
       "      <td>0.635163</td>\n",
       "      <td>2.704044</td>\n",
       "      <td>0.896373</td>\n",
       "      <td>1.942749</td>\n",
       "      <td>0.007524</td>\n",
       "      <td>33.317996</td>\n",
       "      <td>20.251145</td>\n",
       "      <td>102.564675</td>\n",
       "      <td>289.746307</td>\n",
       "      <td>714.929899</td>\n",
       "    </tr>\n",
       "    <tr>\n",
       "      <th>min</th>\n",
       "      <td>1.503960e+09</td>\n",
       "      <td>0.000000</td>\n",
       "      <td>0.000000</td>\n",
       "      <td>0.000000</td>\n",
       "      <td>0.000000</td>\n",
       "      <td>0.000000</td>\n",
       "      <td>0.000000</td>\n",
       "      <td>0.000000</td>\n",
       "      <td>0.000000</td>\n",
       "      <td>0.000000</td>\n",
       "      <td>0.000000</td>\n",
       "      <td>0.000000</td>\n",
       "      <td>0.000000</td>\n",
       "    </tr>\n",
       "    <tr>\n",
       "      <th>25%</th>\n",
       "      <td>2.320127e+09</td>\n",
       "      <td>4505.250000</td>\n",
       "      <td>3.085000</td>\n",
       "      <td>0.000000</td>\n",
       "      <td>0.000000</td>\n",
       "      <td>0.000000</td>\n",
       "      <td>2.202500</td>\n",
       "      <td>0.000000</td>\n",
       "      <td>0.000000</td>\n",
       "      <td>0.000000</td>\n",
       "      <td>140.000000</td>\n",
       "      <td>725.250000</td>\n",
       "      <td>1849.250000</td>\n",
       "    </tr>\n",
       "    <tr>\n",
       "      <th>50%</th>\n",
       "      <td>4.445115e+09</td>\n",
       "      <td>7818.500000</td>\n",
       "      <td>5.440000</td>\n",
       "      <td>0.000000</td>\n",
       "      <td>0.340000</td>\n",
       "      <td>0.275000</td>\n",
       "      <td>3.510000</td>\n",
       "      <td>0.000000</td>\n",
       "      <td>6.000000</td>\n",
       "      <td>8.000000</td>\n",
       "      <td>205.000000</td>\n",
       "      <td>1038.500000</td>\n",
       "      <td>2187.500000</td>\n",
       "    </tr>\n",
       "    <tr>\n",
       "      <th>75%</th>\n",
       "      <td>6.962181e+09</td>\n",
       "      <td>10977.500000</td>\n",
       "      <td>7.800000</td>\n",
       "      <td>0.000000</td>\n",
       "      <td>2.197500</td>\n",
       "      <td>0.830000</td>\n",
       "      <td>4.877500</td>\n",
       "      <td>0.000000</td>\n",
       "      <td>34.000000</td>\n",
       "      <td>20.000000</td>\n",
       "      <td>269.750000</td>\n",
       "      <td>1201.000000</td>\n",
       "      <td>2809.750000</td>\n",
       "    </tr>\n",
       "    <tr>\n",
       "      <th>max</th>\n",
       "      <td>8.877689e+09</td>\n",
       "      <td>36019.000000</td>\n",
       "      <td>28.030001</td>\n",
       "      <td>4.942142</td>\n",
       "      <td>21.920000</td>\n",
       "      <td>6.480000</td>\n",
       "      <td>10.710000</td>\n",
       "      <td>0.110000</td>\n",
       "      <td>210.000000</td>\n",
       "      <td>143.000000</td>\n",
       "      <td>518.000000</td>\n",
       "      <td>1440.000000</td>\n",
       "      <td>4900.000000</td>\n",
       "    </tr>\n",
       "  </tbody>\n",
       "</table>\n",
       "</div>"
      ],
      "text/plain": [
       "                 Id    TotalSteps  TotalDistance  LoggedActivitiesDistance  \\\n",
       "count  8.940000e+02    894.000000     894.000000                894.000000   \n",
       "mean   4.782378e+09   8030.912752       5.772170                  0.113737   \n",
       "std    2.434238e+09   4904.332852       3.816237                  0.635163   \n",
       "min    1.503960e+09      0.000000       0.000000                  0.000000   \n",
       "25%    2.320127e+09   4505.250000       3.085000                  0.000000   \n",
       "50%    4.445115e+09   7818.500000       5.440000                  0.000000   \n",
       "75%    6.962181e+09  10977.500000       7.800000                  0.000000   \n",
       "max    8.877689e+09  36019.000000      28.030001                  4.942142   \n",
       "\n",
       "       VeryActiveDistance  ModeratelyActiveDistance  LightActiveDistance  \\\n",
       "count          894.000000                894.000000           894.000000   \n",
       "mean             1.580000                  0.596745             3.512718   \n",
       "std              2.704044                  0.896373             1.942749   \n",
       "min              0.000000                  0.000000             0.000000   \n",
       "25%              0.000000                  0.000000             2.202500   \n",
       "50%              0.340000                  0.275000             3.510000   \n",
       "75%              2.197500                  0.830000             4.877500   \n",
       "max             21.920000                  6.480000            10.710000   \n",
       "\n",
       "       SedentaryActiveDistance  VeryActiveMinutes  FairlyActiveMinutes  \\\n",
       "count               894.000000         894.000000           894.000000   \n",
       "mean                  0.001689          22.253915            14.262864   \n",
       "std                   0.007524          33.317996            20.251145   \n",
       "min                   0.000000           0.000000             0.000000   \n",
       "25%                   0.000000           0.000000             0.000000   \n",
       "50%                   0.000000           6.000000             8.000000   \n",
       "75%                   0.000000          34.000000            20.000000   \n",
       "max                   0.110000         210.000000           143.000000   \n",
       "\n",
       "       LightlyActiveMinutes  SedentaryMinutes     Calories  \n",
       "count            894.000000        894.000000   894.000000  \n",
       "mean             202.733781        969.605145  2334.772931  \n",
       "std              102.564675        289.746307   714.929899  \n",
       "min                0.000000          0.000000     0.000000  \n",
       "25%              140.000000        725.250000  1849.250000  \n",
       "50%              205.000000       1038.500000  2187.500000  \n",
       "75%              269.750000       1201.000000  2809.750000  \n",
       "max              518.000000       1440.000000  4900.000000  "
      ]
     },
     "execution_count": 10,
     "metadata": {},
     "output_type": "execute_result"
    }
   ],
   "source": [
    "data.describe()"
   ]
  },
  {
   "cell_type": "code",
   "execution_count": 16,
   "metadata": {},
   "outputs": [],
   "source": [
    "# DEFINING X & Y Variables\n",
    "#X = dataset.iloc[:,:-1].values\n",
    "#Y = dataset.iloc[:,-1].values"
   ]
  },
  {
   "cell_type": "code",
   "execution_count": 46,
   "metadata": {},
   "outputs": [
    {
     "name": "stdout",
     "output_type": "stream",
     "text": [
      "Shape of full dataset is: (894, 14)\n",
      "Shape of training dataset is: (715, 14)\n",
      "Shape of test dataset is: (179, 14)\n"
     ]
    }
   ],
   "source": [
    "# SPLITTING DATA INTO TRAINING AND TESTING SETS \n",
    "#I set the test_size=0.2 to tell it to split 80% of data into TRAIN DATA & 20% into TEST DATA. \n",
    "train, test = train_test_split(data, test_size=0.2, random_state=1)\n",
    "print(\"Shape of full dataset is: {0}\".format(data.shape))\n",
    "print(\"Shape of training dataset is: {0}\".format(train.shape))\n",
    "print(\"Shape of test dataset is: {0}\".format(test.shape))"
   ]
  },
  {
   "cell_type": "code",
   "execution_count": 67,
   "metadata": {},
   "outputs": [],
   "source": [
    "# CONDITION 1: VERY ACTIVE MINUTES & VERY ACTIVE DISTANCE\n",
    "X_train1 = train[['VeryActiveMinutes', 'VeryActiveDistance']]\n",
    "Y_train1 = train['Calories']\n",
    "\n",
    "X_test1 = test[['VeryActiveMinutes', 'VeryActiveDistance']]\n",
    "Y_test1 = test['Calories']"
   ]
  },
  {
   "cell_type": "code",
   "execution_count": 47,
   "metadata": {},
   "outputs": [
    {
     "data": {
      "text/plain": [
       "LinearRegression()"
      ]
     },
     "execution_count": 47,
     "metadata": {},
     "output_type": "execute_result"
    }
   ],
   "source": [
    "# TRAINING MODEL\n",
    "regression = LinearRegression()\n",
    "regressor.fit(X_train1, Y_train1)"
   ]
  },
  {
   "cell_type": "code",
   "execution_count": 108,
   "metadata": {},
   "outputs": [],
   "source": [
    "# PREDICTING ON TEST SET\n",
    "Y_pred1 = regressor.predict(X_test1)\n",
    "np.set_printoptions(precision=2)\n",
    "# print(np.concatenate((Y_pred1.reshape(len(Y_pred1),1),Y_test.reshape(len(Y_pred1),1)),1))"
   ]
  },
  {
   "cell_type": "code",
   "execution_count": 137,
   "metadata": {},
   "outputs": [
    {
     "name": "stdout",
     "output_type": "stream",
     "text": [
      "Coefficients: [  30.27 -501.59]\n",
      "Intercepts: 2210.2749489924545\n"
     ]
    }
   ],
   "source": [
    "# PRINTING COEFFICIENT and INTERCEPT VALUES\n",
    "print('Coefficients:', regressor.coef_)\n",
    "print('Intercepts:', regressor.intercept_)"
   ]
  },
  {
   "cell_type": "code",
   "execution_count": 107,
   "metadata": {},
   "outputs": [
    {
     "name": "stdout",
     "output_type": "stream",
     "text": [
      "MSE of test data = 2.3906e+08\n",
      "MSE of train data = 2.6826e+05\n",
      "R^2 of Test = -557.92\n",
      "R^2 of Train = 0.495\n"
     ]
    }
   ],
   "source": [
    "# ERROR CALCULATION\n",
    "r2_test = regressor.score(X_test1, Y_test1)\n",
    "r2_train = regressor.score(X_train1, Y_train1)\n",
    "mse_test = mean_squared_error(Y_pred1, Y_test1)\n",
    "mse_train = mean_squared_error(Y_train1, regressor.predict(X_train1))\n",
    "\n",
    "print(f'MSE of test data = {mse_test:.5}')\n",
    "print(f'MSE of train data = {mse_train:.5}')\n",
    "print(f'R^2 of Test = {r2_test:.5}')\n",
    "print(f'R^2 of Train = {r2_train:.5}')"
   ]
  },
  {
   "cell_type": "code",
   "execution_count": 109,
   "metadata": {
    "scrolled": true
   },
   "outputs": [
    {
     "data": {
      "text/plain": [
       "<matplotlib.legend.Legend at 0x7fe13849bfa0>"
      ]
     },
     "execution_count": 109,
     "metadata": {},
     "output_type": "execute_result"
    },
    {
     "data": {
      "image/png": "[encoded data removed]",
      "text/plain": [
       "<Figure size 720x432 with 1 Axes>"
      ]
     },
     "metadata": {
      "needs_background": "light"
     },
     "output_type": "display_data"
    }
   ],
   "source": [
    "# PLOTTING the Y versus the Predicted Y\n",
    "fig, ax = plt.subplots(1,1, figsize = (10,6))\n",
    "ax.set_title(\"VERY ACTIVE MINUTES vs. VERY ACTIVE DISTANCE\")\n",
    "ax.plot(Y_test1, Y_pred1, 'o')\n",
    "grid0 = np.linspace(np.min(dataset.Calories), np.max(dataset.Calories), 100)\n",
    "ax.plot(grid0, grid0, color ='red', label = \"if data was 100% accurate\")\n",
    "ax.set_xlabel(\"Actual y\")\n",
    "ax.set_ylabel(\"Predicted y\")\n",
    "\n",
    "# LINE OF BEST FIT\n",
    "m, b = np.polyfit(Y_test1, Y_pred1, 1)\n",
    "ax.plot(Y_test1, m*Y_test1 + b, color = 'blue', label = f'Actual DATA: y={m:.2f}x+{b:.2f}')\n",
    "        \n",
    "ax.legend() "
   ]
  },
  {
   "cell_type": "code",
   "execution_count": 103,
   "metadata": {},
   "outputs": [],
   "source": [
    "# CONDITION 2: TotalDistance vs. TotalSteps\n",
    "X_train2 = train[['TotalDistance', 'TotalSteps']]\n",
    "Y_train2 = train['Calories']\n",
    "\n",
    "X_test2 = test[['TotalDistance', 'TotalSteps']]\n",
    "Y_test2 = test['Calories']"
   ]
  },
  {
   "cell_type": "code",
   "execution_count": 104,
   "metadata": {},
   "outputs": [
    {
     "data": {
      "text/plain": [
       "LinearRegression()"
      ]
     },
     "execution_count": 104,
     "metadata": {},
     "output_type": "execute_result"
    }
   ],
   "source": [
    "# TRAINING the MODEL\n",
    "regression = LinearRegression()\n",
    "regressor.fit(X_train2, Y_train2)"
   ]
  },
  {
   "cell_type": "code",
   "execution_count": 112,
   "metadata": {},
   "outputs": [],
   "source": [
    "# PREDICTING ON TEST SET\n",
    "Y_pred2 = regressor.predict(X_test2)\n",
    "np.set_printoptions(precision=2)"
   ]
  },
  {
   "cell_type": "code",
   "execution_count": 113,
   "metadata": {},
   "outputs": [
    {
     "name": "stdout",
     "output_type": "stream",
     "text": [
      "Coefficients: [ 3.94e+02 -2.14e-01]\n",
      "Intercepts: 1780.995040338156\n"
     ]
    }
   ],
   "source": [
    "# PRINTING COEFFICIENT and INTERCEPT VALUES\n",
    "print('Coefficients:', regressor.coef_)\n",
    "print('Intercepts:', regressor.intercept_)"
   ]
  },
  {
   "cell_type": "code",
   "execution_count": 114,
   "metadata": {},
   "outputs": [
    {
     "name": "stdout",
     "output_type": "stream",
     "text": [
      "MSE of test data = 2.3906e+08\n",
      "MSE of train data = 2.6826e+05\n",
      "R^2 of Test = 0.36712\n",
      "R^2 of Train = 0.495\n"
     ]
    }
   ],
   "source": [
    "# ERROR CALCULATION\n",
    "r2_test = regressor.score(X_test2, Y_test2)\n",
    "r2_train = regressor.score(X_train2, Y_train2)\n",
    "mse_test = mean_squared_error(Y_pred, Y_test2)\n",
    "mse_train = mean_squared_error(Y_train2, regressor.predict(X_train2))\n",
    "\n",
    "print(f'MSE of test data = {mse_test:.5}')\n",
    "print(f'MSE of train data = {mse_train:.5}')\n",
    "print(f'R^2 of Test = {r2_test:.5}')\n",
    "print(f'R^2 of Train = {r2_train:.5}')"
   ]
  },
  {
   "cell_type": "code",
   "execution_count": 121,
   "metadata": {},
   "outputs": [
    {
     "data": {
      "text/plain": [
       "<matplotlib.legend.Legend at 0x7fe13981e790>"
      ]
     },
     "execution_count": 121,
     "metadata": {},
     "output_type": "execute_result"
    },
    {
     "data": {
      "image/png": "[encoded data removed]",
      "text/plain": [
       "<Figure size 720x432 with 1 Axes>"
      ]
     },
     "metadata": {
      "needs_background": "light"
     },
     "output_type": "display_data"
    }
   ],
   "source": [
    "# PLOTTING the Y versus the Predicted Y\n",
    "fig, ax = plt.subplots(1,1, figsize = (10,6))\n",
    "ax.set_title(\"TotalDistance vs. TotalSteps\")\n",
    "ax.plot(Y_test2, Y_pred2, 'o')\n",
    "grid0 = np.linspace(np.min(dataset.Calories), np.max(dataset.Calories), 100)\n",
    "ax.plot(grid0, grid0, color ='red', label = \"if data was 100% accurate\")\n",
    "ax.set_xlabel(\"Actual y\")\n",
    "ax.set_ylabel(\"Predicted y\")\n",
    "\n",
    "# LINE OF BEST FIT\n",
    "m, b = np.polyfit(Y_test2, Y_pred2, 1)\n",
    "ax.plot(Y_test2, m*Y_test2 + b, color = 'blue', label = f'Actual DATA: y={m:.2f}x+{b:.2f}')\n",
    "        \n",
    "ax.legend() "
   ]
  },
  {
   "cell_type": "code",
   "execution_count": 122,
   "metadata": {},
   "outputs": [],
   "source": [
    "# CONDITION 3: FairlyActiveMinutes vs. ModeratelyActiveDistance\n",
    "X_train3 = train[['FairlyActiveMinutes', 'ModeratelyActiveDistance']]\n",
    "Y_train3 = train['Calories']\n",
    "\n",
    "X_test3 = test[['FairlyActiveMinutes', 'ModeratelyActiveDistance']]\n",
    "Y_test3 = test['Calories']"
   ]
  },
  {
   "cell_type": "code",
   "execution_count": 127,
   "metadata": {},
   "outputs": [
    {
     "data": {
      "text/plain": [
       "LinearRegression()"
      ]
     },
     "execution_count": 127,
     "metadata": {},
     "output_type": "execute_result"
    }
   ],
   "source": [
    "# TRAINING the MODEL\n",
    "regression = LinearRegression()\n",
    "regressor.fit(X_train3, Y_train3)"
   ]
  },
  {
   "cell_type": "code",
   "execution_count": 128,
   "metadata": {},
   "outputs": [],
   "source": [
    "# PREDICTING ON TEST SET\n",
    "Y_pred3 = regressor.predict(X_test3)\n",
    "np.set_printoptions(precision=2)"
   ]
  },
  {
   "cell_type": "code",
   "execution_count": 135,
   "metadata": {},
   "outputs": [
    {
     "name": "stdout",
     "output_type": "stream",
     "text": [
      "Coefficients: [  30.27 -501.59]\n",
      "Intercepts: 2210.2749489924545\n",
      "MSE of test data = 3.4589e+05\n",
      "MSE of train data = 4.7444e+05\n",
      "R^2 of Test = 0.1913\n",
      "R^2 of Train = 0.10687\n"
     ]
    }
   ],
   "source": [
    "# PRINTING COEFFICIENT and INTERCEPT VALUES\n",
    "print('Coefficients:', regressor.coef_)\n",
    "print('Intercepts:', regressor.intercept_)\n",
    "\n",
    "# ERROR CALCULATION\n",
    "r2_test = regressor.score(X_test3, Y_test3)\n",
    "r2_train = regressor.score(X_train3, Y_train3)\n",
    "mse_test = mean_squared_error(Y_pred3, Y_test3)\n",
    "mse_train = mean_squared_error(Y_train3, regressor.predict(X_train3))\n",
    "\n",
    "print(f'MSE of test data = {mse_test:.5}')\n",
    "print(f'MSE of train data = {mse_train:.5}')\n",
    "print(f'R^2 of Test = {r2_test:.5}')\n",
    "print(f'R^2 of Train = {r2_train:.5}')"
   ]
  },
  {
   "cell_type": "code",
   "execution_count": 134,
   "metadata": {},
   "outputs": [
    {
     "data": {
      "text/plain": [
       "<matplotlib.legend.Legend at 0x7fe1399ad580>"
      ]
     },
     "execution_count": 134,
     "metadata": {},
     "output_type": "execute_result"
    },
    {
     "data": {
      "image/png": "[encoded data removed]",
      "text/plain": [
       "<Figure size 720x432 with 1 Axes>"
      ]
     },
     "metadata": {
      "needs_background": "light"
     },
     "output_type": "display_data"
    }
   ],
   "source": [
    "# PLOTTING the Y versus the Predicted Y\n",
    "fig, ax = plt.subplots(1,1, figsize = (10,6))\n",
    "ax.set_title(\"FairlyActiveMinutes vs. ModeratelyActiveDistance\")\n",
    "ax.plot(Y_test3, Y_pred3, 'o')\n",
    "grid0 = np.linspace(np.min(dataset.Calories), np.max(dataset.Calories), 100)\n",
    "ax.plot(grid0, grid0, color ='red', label = \"if data was 100% accurate\")\n",
    "ax.set_xlabel(\"Actual y\")\n",
    "ax.set_ylabel(\"Predicted y\")\n",
    "\n",
    "# LINE OF BEST FIT\n",
    "m, b = np.polyfit(Y_test3, Y_pred3, 1)\n",
    "ax.plot(Y_test3, m*Y_test3 + b, color = 'blue', label = f'Actual DATA: y={m:.2f}x+{b:.2f}')\n",
    "        \n",
    "ax.legend() "
   ]
  },
  {
   "cell_type": "code",
   "execution_count": 200,
   "metadata": {},
   "outputs": [
    {
     "data": {
      "text/plain": [
       "LinearRegression()"
      ]
     },
     "execution_count": 200,
     "metadata": {},
     "output_type": "execute_result"
    }
   ],
   "source": [
    "# BUILDING LINEAR REGRESSION PREDICTION MODEL\n",
    "#1 - VeryActiveMinutes vs VeryActive Distance\n",
    "reg1 = linear_model.LinearRegression()\n",
    "data1 = dataset.drop(['Id','ActivityDate', 'TotalDistance','LoggedActivitiesDistance' ,'TotalSteps', 'ModeratelyActiveDistance', 'LightActiveDistance', 'SedentaryActiveDistance', 'FairlyActiveMinutes', 'LightlyActiveMinutes', 'SedentaryMinutes'], axis=1)\n",
    "data1.head()\n",
    "group1 = ['VeryActiveMinutes', 'VeryActiveDistance']\n",
    "reg1.fit(data1[group1], data1['Calories'])"
   ]
  },
  {
   "cell_type": "code",
   "execution_count": 206,
   "metadata": {},
   "outputs": [
    {
     "data": {
      "text/plain": [
       "array([1931.61])"
      ]
     },
     "execution_count": 206,
     "metadata": {},
     "output_type": "execute_result"
    }
   ],
   "source": [
    "# Now We have a model that can predict how many calories will be burned based on How many \"VeryActiveMinutes\" and \"VeryActiveDistance\"!\n",
    "reg1.predict([[100,100]])"
   ]
  },
  {
   "cell_type": "code",
   "execution_count": null,
   "metadata": {},
   "outputs": [],
   "source": []
  }
 ],
 "metadata": {
  "kernelspec": {
   "display_name": "Python 3",
   "language": "python",
   "name": "python3"
  },
  "language_info": {
   "codemirror_mode": {
    "name": "ipython",
    "version": 3
   },
   "file_extension": ".py",
   "mimetype": "text/x-python",
   "name": "python",
   "nbconvert_exporter": "python",
   "pygments_lexer": "ipython3",
   "version": "3.8.3"
  }
 },
 "nbformat": 4,
 "nbformat_minor": 4
}
